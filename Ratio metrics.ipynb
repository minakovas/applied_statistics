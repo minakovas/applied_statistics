{
  "cells": [
    {
      "cell_type": "code",
      "execution_count": 1,
      "metadata": {
        "id": "exJpJV5Q89wp"
      },
      "outputs": [],
      "source": [
        "from scipy.stats import (\n",
        "    norm, binom, expon, t, pareto, ttest_1samp, ttest_ind, sem, uniform, bernoulli\n",
        ")\n",
        "from statsmodels.stats.api import CompareMeans, DescrStatsW\n",
        "from statsmodels.stats.proportion import proportion_confint\n",
        "import numpy as numpy\n",
        "from seaborn import distplot\n",
        "from matplotlib import pyplot\n",
        "import seaborn\n",
        "from tqdm.notebook import tqdm\n",
        "\n",
        "import sys\n",
        "sys.path.append('.')\n",
        "\n",
        "import warnings\n",
        "warnings.filterwarnings(\"ignore\")\n",
        "numpy.random.seed(42)"
      ],
      "id": "exJpJV5Q89wp"
    },
    {
      "cell_type": "code",
      "execution_count": 2,
      "metadata": {
        "id": "-XIzZv-B89wq"
      },
      "outputs": [],
      "source": [
        "def inverse_plot_colorscheme():\n",
        "    import cycler\n",
        "    def invert(color_to_convert):\n",
        "        table = str.maketrans('0123456789abcdef', 'fedcba9876543210')\n",
        "        return '#' + color_to_convert[1:].lower().translate(table).upper()\n",
        "    update_dict = {}\n",
        "    for key, value in pyplot.rcParams.items():\n",
        "        if value == 'black':\n",
        "            update_dict[key] = 'white'\n",
        "        elif value == 'white':\n",
        "            update_dict[key] = 'black'\n",
        "\n",
        "    old_cycle = pyplot.rcParams['axes.prop_cycle']\n",
        "    new_cycle = []\n",
        "    for value in old_cycle:\n",
        "        new_cycle.append({\n",
        "            'color': invert(value['color'])\n",
        "        })\n",
        "    pyplot.rcParams.update(update_dict)\n",
        "    pyplot.rcParams['axes.prop_cycle'] = cycler.Cycler(new_cycle)\n",
        "    lec = pyplot.rcParams['legend.edgecolor']\n",
        "    lec = str(1 - float(lec))\n",
        "    pyplot.rcParams['legend.edgecolor'] = lec"
      ],
      "id": "-XIzZv-B89wq"
    },
    {
      "cell_type": "code",
      "execution_count": 3,
      "metadata": {
        "id": "u-dP9PyN89wq"
      },
      "outputs": [],
      "source": [
        "inverse_plot_colorscheme()"
      ],
      "id": "u-dP9PyN89wq"
    },
    {
      "cell_type": "markdown",
      "metadata": {
        "tags": [],
        "id": "AMphPj-G89wr"
      },
      "source": [
        "# Ratio-метрики\n",
        "\n",
        "\n",
        "В сегодняшней лекции мы узнаем, как работать с ratio-метриками.\n",
        "\n",
        "\n",
        "> 📈 **Задача**\n",
        ">\n",
        "> Вы аналитик в Авито. Недавно к вам пришел продукт-менеджер, который захотел поменять цвет кнопки \"написать сообщение\" в объявлениях из синего в красный. По всем стандартным шаблонам.\n",
        ">\n",
        "> Вопрос: увеличит ли это конверсию в нажатие кнопки или конверсию в начатые чаты по объявлениям?\n",
        "\n",
        "Давайте для примера посчитаем эту метрику для 4 пользователей:\n",
        "\n",
        "| Id пользователя | Сколько раз зашел на страницу объявления? | Сколько раз начал общение в чате? |\n",
        "|------|----------------------------------------|-----------------------|\n",
        "| 1    | 5                                      | 5                     |\n",
        "| 2    | 4                                      | 1                     |\n",
        "| 3    | 0                                      | 0                     |\n",
        "| 4    | 6                                      | 4                     |\n",
        "\n",
        "\n",
        "Тогда у нас было 15 заходов на страницу объявлений и 10 объявлений, на которых произошло общение в чате. Интересующая нас конверсия в задаче равна 10/15 или 2/3 или 66%.\n",
        "\n",
        "\n",
        "Хорошо, тогда для решения надо провести AB-тест: Половину пользователей в тест, другую в контроль. Например: пользователь 1 и 3 в контроль, а 2 и 4 в тест.\n",
        "\n",
        "---"
      ],
      "id": "AMphPj-G89wr"
    },
    {
      "cell_type": "markdown",
      "metadata": {
        "id": "C_19gehU89wr"
      },
      "source": [
        "## T-test. Статистические единицы = заходы на страницу объявления.\n",
        "\n",
        "\n",
        "Какой критерий мы знаем для сравнения конверсий в тесте и в контроле? T-test и хи-квадрат. Но надо понять, к каким выборкам их применять.\n",
        "\n",
        "\n",
        "Пусть нашими статистическими единицами будут \"заходы на страницу объявления\": Если после этого началось общение в чате, то это 1, а если нет – то это 0. Тогда у нас получается следующая ситуация в тесте и в контроле:\n",
        "\n",
        "<img src=\"https://github.com/dimalunin2016/pictures/blob/main/in_ration.png?raw=true\" width=\"1000\" height=\"300\" />\n",
        "\n",
        "Тогда: $M_O^C,\\ M_O^T$ – случайные величины в тесте и в контроле, равные 1 или 0. $O$ внизу означает, что статистическая единица измерения - это число открытых объявлений юзером (opened), а $M$ – началась ли переписка в мессенджере (messenger).\n",
        "\n",
        "Поставим гипотезу на языке математики: $H_0: \\mathbb{E}\\overline{M_O^C} = \\mathbb{E} \\overline{M_O^T}\\ VS.\\ H_1: \\mathbb{E}\\overline{M_O^C} < \\mathbb{E} \\overline{M_O^T}$. Ее должно быть легко проверить через T-test. Но не все так просто.\n",
        "\n",
        "------\n",
        "\n",
        "Можно ли тут использовать T-test для замера разницы конверсий? Давайте проверим. Что если вся разница между группами, задетектированная T-test, будет обусловлена разными пользователями, а не эффектом между тестом и контролем? Например, первый пользователь не любит звонить и всегда пишет в чат, а остальные нет. Тогда конверсия в контроле всегда будет больше.\n",
        "\n",
        "Проверим на Монте-Карло:\n",
        "\n",
        "- Для этого мы создадим функцию для генерации искусственного пользователя $i$.\n",
        "    - На первом этапе мы сгенерируем, на какое число объявлений пользователь зашел на сайте. Пусть это число $O_i$, его мы сгенерируем из нормального распределения для простоты.\n",
        "    - Вторым этапом сгенерируем конверсию $p_i$ нажатия на кнопку \"написать сообщение\".\n",
        "    - Так для каждого пользователя получится выборка размера $O_i$ с конверсией $p_i$. Для ускорения работы будем считать, что число чатов будет ровно $[O_i \\cdot p_i]$ (Целая часть от $O_i \\cdot p_i$).\n",
        "- При этом пользователи будут взяты из одного распределения: не будет никакой разницы между пользователями в тесте и в контроле."
      ],
      "id": "C_19gehU89wr"
    },
    {
      "cell_type": "code",
      "execution_count": 11,
      "metadata": {
        "id": "FDW9x_Yq89wr"
      },
      "outputs": [],
      "source": [
        "def generate_incorrect_group_sample(group_size, touch_per_user=50):\n",
        "\n",
        "    # Сгенерируем число заходов на страницу объявлений для всех пользователей группы сразу.\n",
        "    O_array = norm(loc=touch_per_user, scale=1).rvs(size=group_size).astype(int)\n",
        "    # Сгенерируем конверсию из захода в нажатие на кнопку \"написать сообщение\" для каждого пользователя\n",
        "    p_array = uniform().rvs(size=group_size)\n",
        "\n",
        "    # размер всей выборки равен Sum (O_i)\n",
        "    sample_size = numpy.sum(O_array)\n",
        "    # Число чатов = Сумма(число заходов пользователя * конверсия для этого пользователя)\n",
        "    # тут для простоты мы тут сделаем так, что реально засемплированное совпадает с ожидаемым\n",
        "    # в реальной практике лучше сделать более корректно\n",
        "    M_sum = numpy.sum((O_array * p_array).astype(int))\n",
        "\n",
        "    # Генерируем массив 1 и 0\n",
        "    # Неважно, в каком порядке будут стоять элементы\n",
        "    return [1] * M_sum + [0] * (sample_size - M_sum)"
      ],
      "id": "FDW9x_Yq89wr"
    },
    {
      "cell_type": "code",
      "execution_count": 13,
      "metadata": {
        "id": "MMpdg3qm89ws",
        "outputId": "d4d86f76-2c5a-42ee-a94e-b824d2150e64",
        "colab": {
          "base_uri": "https://localhost:8080/",
          "height": 102,
          "referenced_widgets": [
            "263aa16c0a854cbfa78eaebcf65f5008",
            "e0390216283e445f8af90f2aa5b91039",
            "6838c3f5cb3a4bb59931d7b2fe29744d",
            "b7cb38bf76cb4620815059f8aefdb853",
            "6aa9581d83654ebba04e3d8e136e046e",
            "86b7ef7b543a45d4b74b18d5040479a7",
            "da1e30d59930472988d5efc1b1976f07",
            "11a11bd44b8b4061b7b3209f86f1d96f",
            "edc6b16d654e4b22baa5cf78177332d6",
            "48908ba4801648aa8ec8cc7689d635ae",
            "d478486453364d8ab452a8399ca1ffde"
          ]
        }
      },
      "outputs": [
        {
          "output_type": "display_data",
          "data": {
            "text/plain": [
              "  0%|          | 0/1000 [00:00<?, ?it/s]"
            ],
            "application/vnd.jupyter.widget-view+json": {
              "version_major": 2,
              "version_minor": 0,
              "model_id": "263aa16c0a854cbfa78eaebcf65f5008"
            }
          },
          "metadata": {}
        },
        {
          "output_type": "stream",
          "name": "stdout",
          "text": [
            "FPR: 0.62\n",
            "CI=(0.5895108843206113, 0.6495706936428555)\n"
          ]
        }
      ],
      "source": [
        "numpy.random.seed(42)\n",
        "\n",
        "touch_per_user=50 # число касаний на клиента\n",
        "\n",
        "mc_size = 1000 # число экспериментов Монте-Карло\n",
        "bad_cnt = 0 # кол-во раз, когда обнаружены стат. значимые различия (FP - плохой исход)\n",
        "alpha = 0.05\n",
        "group_size = 1000\n",
        "\n",
        "for _ in tqdm(range(mc_size)):\n",
        "    # генерируем одним способом две выборки\n",
        "    # тк они сгенерированы одинаковым процессом, мат. ожидания отличаться не должны\n",
        "    test_sample = generate_incorrect_group_sample(group_size, touch_per_user)\n",
        "    control_sample = generate_incorrect_group_sample(group_size, touch_per_user)\n",
        "\n",
        "    # Запускаю критерий и считаю p-value\n",
        "    pvalue = ttest_ind(test_sample, control_sample, equal_var=True, alternative='two-sided').pvalue\n",
        "\n",
        "    # Проверяю, что pvalue <= alpha\n",
        "    bad_cnt += (pvalue <= alpha)\n",
        "\n",
        "print(f\"FPR: {round(bad_cnt / mc_size, 4)}\")\n",
        "print(f\"CI={proportion_confint(count = bad_cnt, nobs = mc_size, alpha=0.05, method='wilson')}\")"
      ],
      "id": "MMpdg3qm89ws"
    },
    {
      "cell_type": "markdown",
      "source": [
        "FPR равен 62% вместо 5%. **В этом случае нельзя использовать t-test!**  \n",
        "\n",
        "Обратим внимание, что такой страшный FPR получается тогда, когда каждый пользователь очень много раз заходит на страницу объявлений.  \n",
        "\n",
        "Если поставить 10 касаний, а не 50, то FPR будет не настолько плохой, хотя и все равно слишком большой"
      ],
      "metadata": {
        "id": "U0-3CezhG157"
      },
      "id": "U0-3CezhG157"
    },
    {
      "cell_type": "code",
      "source": [
        "numpy.random.seed(42)\n",
        "\n",
        "touch_per_user = 10 # число касаний на клиента\n",
        "\n",
        "mc_size = 1000 # число экспериментов Монте-Карло\n",
        "bad_cnt = 0 # кол-во раз, когда обнаружены стат. значимые различия (FP - плохой исход)\n",
        "alpha = 0.05\n",
        "group_size = 1000\n",
        "\n",
        "for _ in tqdm(range(mc_size)):\n",
        "    # генерируем одним способом две выборки\n",
        "    # тк они сгенерированы одинаковым процессом, мат. ожидания отличаться не должны\n",
        "    test_sample = generate_incorrect_group_sample(group_size, touch_per_user)\n",
        "    control_sample = generate_incorrect_group_sample(group_size, touch_per_user)\n",
        "\n",
        "    # Запускаю критерий и считаю p-value\n",
        "    pvalue = ttest_ind(test_sample, control_sample, equal_var=True, alternative='two-sided').pvalue\n",
        "\n",
        "    # Проверяю, что pvalue <= alpha\n",
        "    bad_cnt += (pvalue <= alpha)\n",
        "\n",
        "print(f\"FPR: {round(bad_cnt / mc_size, 4)}\")\n",
        "print(f\"CI={proportion_confint(count = bad_cnt, nobs = mc_size, alpha=0.05, method='wilson')}\")"
      ],
      "metadata": {
        "id": "7t9rRWK0G4am",
        "outputId": "aba34024-2888-4955-ec8b-55178c63cdcb",
        "colab": {
          "base_uri": "https://localhost:8080/",
          "height": 102,
          "referenced_widgets": [
            "f81eec3183184f2da9795c0a7e9fc640",
            "d73de38b48bc4381be33a70eacec22d7",
            "91092bc655ac4b379b954b3c7180cf54",
            "d6d31c0282d948b3863d406db2b19e7b",
            "6c3f254266f34684ad6ca0d0c5ee36b1",
            "d8ea0cbe59004ffd9209dc3c168c6735",
            "237482da4aae4e77b47e7ccd400fd2d6",
            "64438b4f389b40da9aaba0249789a068",
            "b7df8161b423418aad64633a9de73c96",
            "99c295cf256d4b53bf17aceec3185cfd",
            "91bfed30d20f4e229320eff4cb9cae7c"
          ]
        }
      },
      "id": "7t9rRWK0G4am",
      "execution_count": 14,
      "outputs": [
        {
          "output_type": "display_data",
          "data": {
            "text/plain": [
              "  0%|          | 0/1000 [00:00<?, ?it/s]"
            ],
            "application/vnd.jupyter.widget-view+json": {
              "version_major": 2,
              "version_minor": 0,
              "model_id": "f81eec3183184f2da9795c0a7e9fc640"
            }
          },
          "metadata": {}
        },
        {
          "output_type": "stream",
          "name": "stdout",
          "text": [
            "FPR: 0.263\n",
            "CI=(0.23665685979107837, 0.2911570237310747)\n"
          ]
        }
      ]
    },
    {
      "cell_type": "markdown",
      "source": [
        "То есть если пользователь всегда совершает 1 касание (или близкое к 1), т.е. как правило **один пользователь отвечает за одну статистическую единицу**, то можно использовать независимое приближение (т.е. использовать t-test).  \n",
        "**Границу, где можно использовать t-test, нужно находить с помощью Монте-карло**"
      ],
      "metadata": {
        "id": "qOElH0rhHlop"
      },
      "id": "qOElH0rhHlop"
    },
    {
      "cell_type": "markdown",
      "metadata": {
        "id": "ly51ag7J89ws"
      },
      "source": [
        "\n",
        "Почему такое произошло? Потому что элементы в контроле **зависимы между собой (их совершил 1 пользователь)**! Это верно и для\n",
        "теста. В этом случае, из-за ограничений критерия (он работает с независимыми элементами), нельзя использовать t-test! **Поэтому всегда помните о зависимостях в данных!** Казалось бы, простая задача про раскраску кнопки в другой цвет, но и она имеет подводные камни.\n",
        "\n",
        "Чтобы лучше понять этот феномен давайте представим, что у нас\n",
        "- по одному пользователю в тесте и в контроле, где каждый из них зашел 10000 раз на объявление.\n",
        "- У первого конверсия в написание в чат равна 1, а у второго 0, причем всегда. Один боится звонков, а второй обожает общаться по телефону, поэтому в чат никогда не напишет.\n",
        "- Тогда у нас в тесте конверсия будет 1, а в контроле 0.\n",
        "- T-test все отвергнет: для него будет 2 выборки размера 10000: одна из единиц, другая из нулей.\n",
        "- А если бы мы поменяли местами пользователей, то было бы наоборот: контроль стал бы лучше теста.\n",
        "\n",
        "Проблема состоит в том, что у нас всего 2 пользователя и t-test неприменим. А мы \"размножили\" их и получили выборки размера 10000 и применяем t-test. Мы просто неправильно работаем с этим критерием.\n",
        "\n",
        "Но давайте посмотрим на условие задачи внимательнее.\n"
      ],
      "id": "ly51ag7J89ws"
    },
    {
      "cell_type": "markdown",
      "metadata": {
        "id": "gluHQj3r89ws"
      },
      "source": [
        "----\n",
        "## Решение 0 (бейзлайн). T-test. Статистические единицы = пользователи Авито.\n",
        "\n",
        "Что на самом деле интересует нас в этой задаче? **Не конверсия из открытия объявления в чат, а прирост числа чатов!**\n",
        "\n",
        "Поэтому давайте поменяем нашу гипотезу: вместо  $H_1: \\mathbb{E}\\overline{M_O^C} < \\mathbb{E} \\overline{M_O^T}$ (это изначальная постановка задачи) будем смотреть  $H_1: \\mathbb{E}\\overline{M^C} < \\mathbb{E} \\overline{M^T}$, где $M^C,\\ M^T$ &mdash; среднее число заходов в мессенджер от пользователей в тесте и контроле. В этом случае мы смотрим среднее на юзера, а не на открытое объявление, как в предыдущем случае. А также избавляемся от зависимости в выборках: открытие чата одним пользователем никак не влияет на открытие чата другим пользователем.\n",
        "\n",
        "\n",
        "Проверим, что замена валидна на Монте-Карло."
      ],
      "id": "gluHQj3r89ws"
    },
    {
      "cell_type": "code",
      "execution_count": 15,
      "metadata": {
        "id": "pyWgHITb89ws"
      },
      "outputs": [],
      "source": [
        "def generate_group_sample(group_size):\n",
        "\n",
        "    # Сгенерируем число заходов на страницу объявлений для всех пользователей группы сразу.\n",
        "    O_array = norm(loc=50, scale=5).rvs(size=group_size).astype(int)\n",
        "    # Сгенерируем конверсию нажатия на кнопку \"написать сообщение\".\n",
        "    p_array = uniform().rvs(size=group_size)\n",
        "\n",
        "    # Число чатов у каждого пользователя [O * p].\n",
        "    M_array = (O_array * p_array).astype(int)\n",
        "\n",
        "    # Неважно, в каком порядке будут стоять элементы\n",
        "    return {\n",
        "        \"O_array\": O_array,\n",
        "        \"message_array\": M_array # В МК будем смотреть только на кол-во чатов, кол-во открытий пока игнорим\n",
        "    }"
      ],
      "id": "pyWgHITb89ws"
    },
    {
      "cell_type": "code",
      "execution_count": 17,
      "metadata": {
        "id": "3q7WdaTu89ws",
        "outputId": "1726234b-aa0b-432a-adbd-a36c2dda87d0",
        "colab": {
          "base_uri": "https://localhost:8080/",
          "height": 102,
          "referenced_widgets": [
            "1c15db853958453a9ea41f8c787d8dd6",
            "b889143e8726423ca6a8ecc57ce9e52c",
            "55f94fa44e264895b96edfee816bad77",
            "9fee18bc61c142b08253ff62cdcb7fdc",
            "0ecce6d2efa84f14a5f8dfd76bcbbc38",
            "2573882e7b354317aa020545f7cbbeb1",
            "c7d946076fee4805b85765900160899f",
            "1d4a17db1b0d49c3b6fa4902f06b2cc4",
            "b21a459674eb421f8d142b3af1df9537",
            "2d2bb40c7de24342843e3cd587bd3f33",
            "0102ee175dde446280c4d5d7a66c7d28"
          ]
        }
      },
      "outputs": [
        {
          "output_type": "display_data",
          "data": {
            "text/plain": [
              "  0%|          | 0/1000 [00:00<?, ?it/s]"
            ],
            "application/vnd.jupyter.widget-view+json": {
              "version_major": 2,
              "version_minor": 0,
              "model_id": "1c15db853958453a9ea41f8c787d8dd6"
            }
          },
          "metadata": {}
        },
        {
          "output_type": "stream",
          "name": "stdout",
          "text": [
            "FPR: 0.05\n",
            "CI=(0.03813026239274881, 0.06531382024425081)\n"
          ]
        }
      ],
      "source": [
        "numpy.random.seed(42)\n",
        "mc_size = 1000\n",
        "bad_cnt = 0\n",
        "alpha = 0.05\n",
        "group_size = 1000\n",
        "\n",
        "for _ in tqdm(range(mc_size)):\n",
        "    test_sample = generate_group_sample(group_size)\n",
        "    control_sample = generate_group_sample(group_size)\n",
        "\n",
        "    # Запускаю критерий и считаю p-value\n",
        "    pvalue = ttest_ind(test_sample['message_array'], control_sample['message_array'],\n",
        "                       equal_var=False, alternative='two-sided').pvalue\n",
        "    # Проверяю, что pvalue <= alpha\n",
        "    bad_cnt += (pvalue <= alpha)\n",
        "\n",
        "print(f\"FPR: {round(bad_cnt / mc_size, 4)}\")\n",
        "print(f\"CI={proportion_confint(count = bad_cnt, nobs = mc_size, alpha=0.05, method='wilson')}\")"
      ],
      "id": "3q7WdaTu89ws"
    },
    {
      "cell_type": "markdown",
      "metadata": {
        "id": "hgGiw6gp89ws"
      },
      "source": [
        "Да, в такой формулировке все верно.\n",
        "\n",
        "------\n",
        "\n",
        "Но нам этого мало. Ответьте на вопрос: какое максимальное число чатов может быть у любого юзера Авито? Непонятно. А если вы знаете, что он заходил на страницу лишь 1 объявления? Тогда вы очень легко можете ответить на вопрос: 1 чат.\n",
        "А значит, число чатов может быть сильно связано с числом заходов на объявления у юзера. И нам не хочется терять эту информацию: если мы сможем ее использовать, то мы сможем создать более мощный критерий!\n",
        "\n",
        "Поэтому давайте попытаемся решить задачу для изначальной постановки и сравним мощности текущего и нового решения."
      ],
      "id": "hgGiw6gp89ws"
    },
    {
      "cell_type": "markdown",
      "metadata": {
        "tags": [],
        "id": "MPKCdl3Q89ws"
      },
      "source": [
        "----\n",
        "\n",
        "## Решение 1: bootstrap\n",
        "\n",
        "Давайте формально выпишем, что значит $H_1: \\mathbb{E}\\overline{M_O^C} < \\mathbb{E} \\overline{M_O^T}$.\n",
        "Пусть\n",
        "\n",
        "- $O^C,\\ O^T$ &mdash; число открытий объявлений пользователями в контроле и тесте.\n",
        "- $M^C,\\ M^T$ &mdash; число заходов в мессенджер пользователями в тесте и контроле.\n",
        "\n",
        "$$\\begin{align}\n",
        "&H_0: \\mathbb{E} \\dfrac{\\sum M^T}{\\sum O^T} - \\mathbb{E} \\dfrac{\\sum M^C}{\\sum O^C} = 0\\ vs.\\ \\\\ &H_1: \\mathbb{E} \\dfrac{\\sum M^T}{\\sum O^T} - \\mathbb{E} \\dfrac{\\sum M^C}{\\sum O^C} > 0\n",
        "\\end{align}\n",
        "$$\n",
        "\n",
        "Мы подробно расписали, что такое числитель и знаменатель, чтобы лучше распознавать наши случайные величины в статистике.\n",
        "\n",
        "В дальнейшем метрики типа $\\dfrac{\\sum X}{\\sum Y}$ мы будем называть __ratio-метриками__. Кстати, обычный поюзерный T-test также можно расписать как Ratio: вместо $H_1: \\mathbb{E}\\overline{M^C} < \\mathbb{E} \\overline{M^T}$ можно написать $H_1: \\mathbb{E} \\dfrac{\\sum M^T}{\\sum U^T} - \\mathbb{E} \\dfrac{\\sum M^C}{\\sum U^C} > 0$, где $U^T, U^C$ – число юзеров в тесте и в контроле.\n",
        "\n",
        "----\n",
        "\n",
        "В итоге, нас интересует посчитать статистику $Z = \\dfrac{\\sum M_T}{\\sum O_T} - \\dfrac{\\sum M_C}{\\sum O_C}$ и построить доверительный интервал для нее. Давайте воспользуемся бутстрапом: он поможет в любой непонятной ситуации.\n",
        "\n"
      ],
      "id": "MPKCdl3Q89ws"
    },
    {
      "cell_type": "markdown",
      "metadata": {
        "id": "PSbmhSMq89wt"
      },
      "source": [
        "**Важно:** в данном случае надо помнить, что в бутстрапе надо семплировать одновременно, как число чатов, так и число заходов на объявление, потому что они зависимы от одного пользователя!"
      ],
      "id": "PSbmhSMq89wt"
    },
    {
      "cell_type": "code",
      "execution_count": null,
      "metadata": {
        "id": "RCbeAjPt89wt"
      },
      "outputs": [],
      "source": [
        "def generate_group_sample(group_size):\n",
        "\n",
        "    # Сгенерируем число заходов на страницу объявлений для всех пользователей группы сразу.\n",
        "    O_array = norm(loc=50, scale=5).rvs(size=group_size).astype(int)\n",
        "    # Сгенерируем конверсию нажатия на кнопку \"написать сообщение\".\n",
        "    p_array = uniform().rvs(size=group_size)\n",
        "\n",
        "    # Число чатов у каждого пользователя [O * p].\n",
        "    M_array = (O_array * p_array).astype(int)\n",
        "\n",
        "    # Неважно, в каком порядке будут стоять элементы\n",
        "    return {\n",
        "        \"O_array\": O_array,\n",
        "        \"message_array\": M_array\n",
        "    }"
      ],
      "id": "RCbeAjPt89wt"
    },
    {
      "cell_type": "code",
      "execution_count": null,
      "metadata": {
        "id": "txKHtQSb89wt"
      },
      "outputs": [],
      "source": [
        "def ratio_bootstrap(message_array, message_control, n_test, n_control, alpha=0.05):\n",
        "    theta_func = lambda MT, MC, OT, OC: numpy.sum(MT, axis=1) / numpy.sum(OT, axis=1) - numpy.sum(MC, axis=1) / numpy.sum(OC, axis=1)\n",
        "\n",
        "\n",
        "    B = 1000 # Чтобы ускорить работу\n",
        "    batch_size = B // 20\n",
        "\n",
        "\n",
        "    theta_asterisk_array = []\n",
        "\n",
        "    test_size = len(message_array)\n",
        "    control_size = len(message_control)\n",
        "\n",
        "    test_inds_array = numpy.arange(0, test_size)\n",
        "    control_inds_array = numpy.arange(0, control_size)\n",
        "    for _ in range(0, B, batch_size):\n",
        "\n",
        "        boot_t_inds = numpy.random.choice(test_inds_array, replace=True, size=(batch_size, test_size))\n",
        "        boot_c_inds = numpy.random.choice(control_inds_array, replace=True, size=(batch_size, control_size))\n",
        "\n",
        "        # Неверный способ\n",
        "        # boot_MT = numpy.random.choice(message_array, replace=True, size=(batch_size, test_size))\n",
        "        # boot_MC = numpy.random.choice(message_control, replace=True, size=(batch_size, control_size))\n",
        "        # boot_OT = numpy.random.choice(n_test, replace=True, size=(batch_size, test_size))\n",
        "        # boot_OC = numpy.random.choice(n_control, replace=True, size=(batch_size, control_size))\n",
        "        boot_MT = message_array[boot_t_inds]\n",
        "        boot_MC = message_control[boot_c_inds]\n",
        "        boot_OT = n_test[boot_t_inds] # Берутся те же юзеры, которые были при семплировании boot_OT\n",
        "        boot_OC = n_control[boot_c_inds] # Берутся те же юзеры, которые были при семплировании boot_OC\n",
        "\n",
        "        theta_asterisk = theta_func(\n",
        "            boot_MT, boot_MC, boot_OT, boot_OC\n",
        "        ).ravel()\n",
        "        assert len(theta_asterisk) == batch_size\n",
        "        theta_asterisk_array = numpy.concatenate([theta_asterisk_array, theta_asterisk])\n",
        "    left_theta_asterisk, right_theta_asterisk = numpy.quantile(theta_asterisk_array, [alpha / 2, 1 - alpha / 2])\n",
        "\n",
        "\n",
        "    percentile_left_bound, percentile_right_bound = left_theta_asterisk, right_theta_asterisk\n",
        "    return percentile_left_bound, percentile_right_bound"
      ],
      "id": "txKHtQSb89wt"
    },
    {
      "cell_type": "code",
      "execution_count": null,
      "metadata": {
        "id": "fQu5f54489wt",
        "outputId": "85deefb3-06af-42b8-dc5e-657a23d3ef38",
        "colab": {
          "referenced_widgets": [
            "7530c878d639481ca99b539ec2542ef6"
          ]
        }
      },
      "outputs": [
        {
          "data": {
            "application/vnd.jupyter.widget-view+json": {
              "model_id": "7530c878d639481ca99b539ec2542ef6",
              "version_major": 2,
              "version_minor": 0
            },
            "text/plain": [
              "  0%|          | 0/1000 [00:00<?, ?it/s]"
            ]
          },
          "metadata": {},
          "output_type": "display_data"
        },
        {
          "name": "stdout",
          "output_type": "stream",
          "text": [
            "FPR, correct bootstrap: 0.054, [0.0416, 0.0698]\n"
          ]
        }
      ],
      "source": [
        "numpy.random.seed(8)\n",
        "\n",
        "bad_cnt_correct_bootstrap = 0\n",
        "\n",
        "for _ in tqdm(range(mc_size)):\n",
        "    test_sample = generate_group_sample(group_size)\n",
        "    control_sample = generate_group_sample(group_size)\n",
        "\n",
        "\n",
        "    left_bound_correct, right_bound_correct = ratio_bootstrap(\n",
        "        test_sample['message_array'],\n",
        "        control_sample['message_array'],\n",
        "        test_sample['O_array'],\n",
        "        control_sample['O_array']\n",
        "    )\n",
        "\n",
        "    bad_cnt_correct_bootstrap += ((left_bound_correct > 0) | (right_bound_correct < 0))\n",
        "\n",
        "corr_fpr = round(bad_cnt_correct_bootstrap / mc_size, 4)\n",
        "corr_left, corr_right = proportion_confint(count = bad_cnt_correct_bootstrap,\n",
        "                                           nobs = mc_size, alpha=0.05, method='wilson')\n",
        "print(f\"FPR, correct bootstrap: {round(corr_fpr, 4)},\"\\\n",
        "      f\" [{round(corr_left, 4)}, {round(corr_right, 4)}]\")\n"
      ],
      "id": "fQu5f54489wt"
    },
    {
      "cell_type": "markdown",
      "metadata": {
        "id": "GToJba_w89wt"
      },
      "source": [
        "Отлично, теперь мы построили корректный критерий для ratio-метрик!\n",
        "\n",
        "----"
      ],
      "id": "GToJba_w89wt"
    },
    {
      "cell_type": "markdown",
      "metadata": {
        "id": "7y3x2k_P89wu"
      },
      "source": [
        "## Зачем вообще нужны Ratio-метрики?\n",
        "\n",
        "Давайте же теперь сравним мощности 2 критериев: T-test и бутстрапа для Ratio-метрики. Правда ли, что мощность стала больше, как мы и думали в начале?\n",
        "\n",
        "Для того, чтобы сгенерировать АБ-тест чуть поменяем функцию генерации пользовательских выборок: добавим возможность изменять конверсии в тесте и в контроле."
      ],
      "id": "7y3x2k_P89wu"
    },
    {
      "cell_type": "code",
      "execution_count": null,
      "metadata": {
        "id": "AqBnWULe89wu"
      },
      "outputs": [],
      "source": [
        "def generate_group_sample_equal_cr(group_size, p=0.1):\n",
        "\n",
        "    # Сгенерируем число заходов на страницу покупки для всех пользователей группы сразу.\n",
        "    O_array = norm(loc=50, scale=5).rvs(size=group_size).astype(int)\n",
        "\n",
        "    # Число покупок у каждого пользователя [N * p].\n",
        "    p_array = norm(loc=p, scale=p / 10).rvs(group_size)\n",
        "    p_array = numpy.maximum(p_array, 0)\n",
        "\n",
        "    M_array = (O_array * p_array).astype(int)\n",
        "\n",
        "    # Неважно, в каком порядке будут стоять элементы\n",
        "    return {\n",
        "        \"O_array\": O_array,\n",
        "        \"message_array\": M_array\n",
        "    }"
      ],
      "id": "AqBnWULe89wu"
    },
    {
      "cell_type": "code",
      "execution_count": null,
      "metadata": {
        "id": "Qi8mOLdn89wu",
        "outputId": "3d016d18-980e-438c-802f-72f1fea1c540",
        "colab": {
          "referenced_widgets": [
            "ec95876897a44b5589a191600118ce7b"
          ]
        }
      },
      "outputs": [
        {
          "data": {
            "application/vnd.jupyter.widget-view+json": {
              "model_id": "ec95876897a44b5589a191600118ce7b",
              "version_major": 2,
              "version_minor": 0
            },
            "text/plain": [
              "  0%|          | 0/1000 [00:00<?, ?it/s]"
            ]
          },
          "metadata": {},
          "output_type": "display_data"
        },
        {
          "name": "stdout",
          "output_type": "stream",
          "text": [
            "power, ratio: 0.494, [0.4631, 0.525]\n",
            "power, means: 0.328, [0.2996, 0.3577]\n"
          ]
        }
      ],
      "source": [
        "numpy.random.seed(8)\n",
        "\n",
        "power_ratio_cnt = 0\n",
        "power_means_cnt = 0\n",
        "\n",
        "for _ in tqdm(range(mc_size)):\n",
        "    # Для лучшего эффекта возьмем, что числитель и знаменатель очень сильно зависят друг от друга;\n",
        "    test_sample = generate_group_sample_equal_cr(group_size, p=0.101)\n",
        "    control_sample = generate_group_sample_equal_cr(group_size, p=0.1)\n",
        "\n",
        "    # Запускаю критерий и строю доверительный интервал\n",
        "    left_bound_ratio, right_bound_ratio = ratio_bootstrap(\n",
        "        test_sample['message_array'],\n",
        "        control_sample['message_array'],\n",
        "        test_sample['O_array'],\n",
        "        control_sample['O_array']\n",
        "    )\n",
        "\n",
        "    # Запускаю критерий и считаю p-value\n",
        "    pvalue_means = ttest_ind(test_sample['message_array'], control_sample['message_array'],\n",
        "                       equal_var=False, alternative='two-sided').pvalue\n",
        "\n",
        "\n",
        "    power_ratio_cnt += (left_bound_ratio > 0)\n",
        "    power_means_cnt += (pvalue_means < 0.05)\n",
        "\n",
        "\n",
        "power_ratio = round(power_ratio_cnt / mc_size, 4)\n",
        "ratio_left, ratio_right = proportion_confint(\n",
        "    count = power_ratio_cnt, nobs = mc_size, alpha=0.05, method='wilson')\n",
        "print(f\"power, ratio: {round(power_ratio, 4)},\"\\\n",
        "      f\" [{round(ratio_left, 4)}, {round(ratio_right, 4)}]\")\n",
        "\n",
        "\n",
        "power_means = round(power_means_cnt / mc_size, 4)\n",
        "means_left, means_right = proportion_confint(count = power_means_cnt,\n",
        "                                           nobs = mc_size, alpha=0.05, method='wilson')\n",
        "print(f\"power, means: {round(power_means, 4)},\"\\\n",
        "      f\" [{round(means_left, 4)}, {round(means_right, 4)}]\")\n"
      ],
      "id": "Qi8mOLdn89wu"
    },
    {
      "cell_type": "markdown",
      "metadata": {
        "id": "9yEAk4YR89wu"
      },
      "source": [
        "Мы видим, что мощность практически в 1.5 раза больше (а в реальности может быть и больше)! Отлично, гипотеза подтвердилась! Почему такое произошло?\n",
        "\n",
        "- в ratio метрике в текущем примере вы сравниваете $p^T\\ vs.\\ p^C$ (так как $\\dfrac{O \\cdot p}{O} = p$)\n",
        "- А в t-test происходит сравнение $M^T\\ vs.\\ M^C$, или ${O^T \\cdot p^T}\\ vs.\\ {O^C \\cdot p^C}$, что является более шумной величиной из-за случайной величины O.\n",
        "\n",
        "В реальных задачах все то же самое: вы убираете из данных часть шума, обусловленного знаменателем. Тем самым вы получаете менее шумную метрику.\n",
        "\n",
        "----\n",
        "\n",
        "**Менее важный аргумент**\n",
        "\n",
        "- Вы можете лучше понять, как вы влияете на разные этапы \"воронки\". Например, вы так можете посмотреть, как вы вашим изменением повлияли на конверсию из захода на сайт в заход на страницу объявления, и еще посмотреть, как изменилась конверсия из страницы объявления в заход в чат. Тем самым вы можете лучше выделять проблемы для бизнеса в вашем изменении.\n"
      ],
      "id": "9yEAk4YR89wu"
    },
    {
      "cell_type": "markdown",
      "metadata": {
        "id": "v_ge-KXO89wu"
      },
      "source": [
        "\n",
        "### Опасность в использовании ratio-метрики\n",
        "\n",
        "Главная проблема ratio-метрики &mdash; вы добавляете знаменатель к вашей метрике, который также может поменяться от вашего изменения на сайте. И в этот момент результат $H_1: \\mathbb{E} \\dfrac{\\sum M^T}{\\sum O^T} - \\mathbb{E} \\dfrac{\\sum M^C}{\\sum O^C} > 0$ будет не согласован с $H_1: \\mathbb{E} M^T -  \\mathbb{E} M^C > 0$.\n",
        "\n",
        "Например, в нашей задаче мы могли бы вместо покраса кнопки в красный цвет сделать неадекватное изменение: зашел в чат из объявления -> тебя заблокировали. Конверсия в тестовой группе была бы равна 1. Но вот число пользователей, а соответственно, и число заходов на страницу объявления сильно уменьшилось бы (все бы перестали пользоваться Авито).\n",
        "\n",
        "Поэтому бывает полезно не просто замерить изменение ratio-метрики, но и дополнительно проверить знаменатель с помощью t-test! Так вы будете уверены, что вы стат. значимо не изменили знаменатель и данным можно верить.\n",
        "\n",
        "Поэтому, ваш план работы с ratio-метрикой таков:\n",
        "- Если вы уверены, что не повлияли на знаменатель, то просто проверяете изменение ratio-метрики.\n",
        "- Если же есть шанс затронуть знаменатель, то вы проверяете и ratio-метрику, и знаменатель.\n",
        "\n",
        "-------"
      ],
      "id": "v_ge-KXO89wu"
    },
    {
      "cell_type": "markdown",
      "metadata": {
        "id": "0Ne6oe2d89wu"
      },
      "source": [
        "## Решение 2: Линеаризация\n",
        "\n",
        "Мы уже поняли, как можно решать задачу через бутстрап. Но его главный недостаток в том, что это очень медленный критерий, который также требует много памяти и ресурсов.\n",
        "\n",
        "Представим, что вы устроились в новую компанию, где все плохо с АB-тестами: каждый делает их, как хочет, совершая при этом множество ошибок. Вы решаете создать единую систему для AB-тестов со следующими свойствами:\n",
        "- Она унифицирует все AB-тесты в компании. Таким образом, сокращается число неверно созданных AB-тестов, если бы все аналитики сами проводили AB, сами собирали данные и применяли критерии, то любая ошибка в коде приводила бы к плачевным результатам.\n",
        "- Сильно сокращает время на создание и анализ AB-теста, что также очень важно для крупных компаний.\n",
        "- Подсвечивает, какие еще эксперименты запущены в компании, что помогает не проводить 2 противоречащих друг другу теста.\n",
        "\n",
        "Это достаточно популярная задача для всех компаний. Например, в Авито также была реализована такая же система, названная \"AB-central\". Подробнее про нее можно прочесть на [хабре](https://habr.com/ru/company/avito/blog/454164/).\n",
        "\n",
        "Так вот, в такой системе очень важно использовать быстрые критерии, требующие небольшого числа памяти. Поэтому для такой системы бутстрап не подходит. Что же тогда использовать?"
      ],
      "id": "0Ne6oe2d89wu"
    },
    {
      "cell_type": "markdown",
      "metadata": {
        "id": "fRSkQKo489wu"
      },
      "source": [
        "\n",
        "**Часть 1. Многочлен Тейлора**\n",
        "\n",
        "Давайте вспомним, что такое многочлен Тейлора и как с его помощью можно расписать любую функцию:\n",
        "\n",
        "$f(x) = \\sum_{k=0}^{n}\\dfrac{f^{(k)}(x_0)}{k!}(x - x_0)^k + o((x - x_0)^{n}), x \\rightarrow x_0$.\n",
        "\n",
        "Если разложить функцию только до первой производной, то:\n",
        "\n",
        "$f(x) = f(x_0) + f'(x_0)(x-x_0) + o((x - x_0)) \\approx f(x_0) + f'(x_0)(x-x_0), x \\rightarrow x_0$\n",
        "\n",
        "А если у вас функция от 2 переменных, то тогда:\n",
        "\n",
        "$f(x, y) \\approx f(\\theta) + f'_x(\\theta)(x-x_0) + f'_y(\\theta)(y-y_0), (x, y) \\rightarrow \\theta, \\theta := (x_0, y_0)$.\n",
        "\n",
        "Теперь, пусть $f(x, y) = \\dfrac{x}{y}$. Тогда\n",
        "\n",
        "$$\\begin{align}\n",
        "\\dfrac{x}{y} &\\approx \\dfrac{x_0}{y_0} + \\left(\\dfrac{1}{y_0}\\right)(x - x_0) + \\left(-\\dfrac{x_0}{y^2_0}\\right)(y-y_0) \\\\\n",
        "&= \\dfrac{x_0}{y_0} + \\dfrac{1}{y_0}\\left(x - x_0 - \\dfrac{x_0}{y_0}y + x_0\\dfrac{y_0}{y_0}\\right) \\\\\n",
        "&= \\dfrac{x_0}{y_0} + \\dfrac{1}{y_0}\\left(x - \\dfrac{x_0}{y_0}y \\right)\n",
        "\\end{align}\n",
        "$$"
      ],
      "id": "fRSkQKo489wu"
    },
    {
      "cell_type": "markdown",
      "metadata": {
        "id": "4fUAk4ZX89wu"
      },
      "source": [
        "\n",
        "**Часть 2. Разложение $\\dfrac{\\overline{X}}{\\overline{Y}}$**\n",
        "\n",
        "Теперь вспомним нашу интересующую ratio-метрику: это $\\dfrac{\\sum_i^n {X_i}}{\\sum_i^n {Y_i}}$, где суммируются все значения по всем пользователям сайта.\n",
        "\n",
        "Давайте перейдем от суммы к среднему: $\\dfrac{\\sum_i^n {X_i}}{\\sum_i^n {Y_i}} = \\dfrac{\\overline{X}}{\\overline{Y}}$.\n",
        "\n",
        "Какой интересный факт мы знаем про среднее? По УЗБЧ\n",
        "- $\\overline{X} \\stackrel{p}{\\rightarrow} \\mathbb{E} X$,\n",
        "- $\\overline{Y} \\stackrel{p}{\\rightarrow} \\mathbb{E} Y$,\n",
        "- $(\\overline{X}, \\overline{Y}) \\stackrel{p}{\\rightarrow} (\\mathbb{E} X, \\mathbb{E} Y)$\n",
        "\n",
        "Давайте тогда разложим $\\dfrac{\\overline{X}}{\\overline{Y}}$ по формуле Тейлора в точке $(\\mathbb{E} X, \\mathbb{E} Y)$ относительно 2 переменных $\\overline{X}, \\overline{Y}$.\n",
        "\n",
        "$$\n",
        "    \\dfrac{\\overline{X}}{\\overline{Y}} \\approx \\dfrac{\\mathbb{E} X}{\\mathbb{E} Y} + \\dfrac{1}{\\mathbb{E} Y}\\left(\\overline{X} - \\dfrac{\\mathbb{E} X}{\\mathbb{E} Y}\\overline{Y} \\right)\n",
        "$$"
      ],
      "id": "4fUAk4ZX89wu"
    },
    {
      "cell_type": "markdown",
      "metadata": {
        "id": "b7t4WZo989wu"
      },
      "source": [
        "**Часть 3. Разделяем результат на N пользователей**\n",
        "\n",
        "\n",
        "$$\\begin{align}\n",
        "    \\dfrac{\\overline{X}}{\\overline{Y}} &\\approx \\dfrac{\\mathbb{E} X}{\\mathbb{E} Y} + \\dfrac{1}{\\mathbb{E} Y}\\left(\\overline{X} - \\dfrac{\\mathbb{E} X}{\\mathbb{E} Y}\\overline{Y} \\right) \\\\\n",
        "    &=\\dfrac{\\mathbb{E} X}{\\mathbb{E} Y} +  \\dfrac{1}{\\mathbb{E} Y} \\cdot \\dfrac{1}{N}\\sum_{i}^N \\left(X_i - \\dfrac{\\mathbb{E} X}{\\mathbb{E} Y} Y_i \\right) \\\\\n",
        "    &=  \\dfrac{1}{N}\\sum_{i}^N \\left(\\dfrac{\\mathbb{E} X}{\\mathbb{E} Y} + \\dfrac{1}{\\mathbb{E} Y}\\left(X_i - \\dfrac{\\mathbb{E} X}{\\mathbb{E} Y} Y_i \\right) \\right)\n",
        "\\end{align}\n",
        "$$\n",
        "\n",
        "Обозначим за $Z'_i := \\dfrac{\\mathbb{E} X}{\\mathbb{E} Y} + \\dfrac{1}{\\mathbb{E} Y}\\left(X_i - \\dfrac{\\mathbb{E} X}{\\mathbb{E} Y} Y_i \\right)$.\n",
        "\n",
        "Тогда\n",
        "\n",
        "$$\\begin{align}\n",
        "    &\\dfrac{\\overline{X}}{\\overline{Y}} \\approx \\overline Z',\\\\\n",
        "    &\\mathbb{E} \\dfrac{\\overline{X}}{\\overline{Y}} \\approx \\mathbb{E} \\overline Z'\n",
        "\\end{align}\n",
        "$$\n",
        "\n",
        "При этом все $Z'_i$ независимы между собой (так как сами пользователи независимы), и учет зависимости $X, Y$ между собой автоматически учтен в этой выборке. А значит, мы **можем применить t-test к выборке Z'!**\n",
        "\n",
        "Но мы не знаем $\\mathbb{E} X, \\mathbb{E}Y$. Поэтому остался последний шаг:\n",
        "\n",
        "**Часть 4. Заменяем оценку $\\mathbb{E} X, \\mathbb{E}Y$ на средние**\n",
        "\n",
        "Тогда финальное $Z_i = \\dfrac{\\overline X}{\\overline Y} + \\dfrac{1}{\\overline Y}\\left(X_i - \\dfrac{\\overline X}{\\overline Y} Y_i \\right)$.\n",
        "\n",
        "Так как $(\\overline{X}, \\overline{Y}) \\stackrel{p}{\\rightarrow} (\\mathbb{E} X, \\mathbb{E} Y)$, то\n",
        "\n",
        "$$\\begin{align}\n",
        "Z_i \\stackrel{p}{\\rightarrow} \\dfrac{\\mathbb{E} X}{\\mathbb{E} Y} + \\dfrac{1}{\\mathbb{E} Y}\\left(X_i - \\dfrac{\\mathbb{E} X}{\\mathbb{E} Y} Y_i \\right) = Z'_i\n",
        "\\end{align}\n",
        "$$\n",
        "\n",
        "А значит, при больших размерах выборок $\\mathbb{E} Z \\approx \\mathbb{E} Z'$. А значит, $\\mathbb{E} Z \\approx \\mathbb{E} Z' \\approx \\mathbb{E} \\dfrac{\\overline{X}}{\\overline{Y}}$. Применив T-test к выборке $Z$, мы сможем сравнить $\\dfrac{\\overline{X}}{\\overline{Y}}$.\n",
        "\n",
        "Давайте реализуем линеаризованную поправку и проверим, работает ли критерий:"
      ],
      "id": "b7t4WZo989wu"
    },
    {
      "cell_type": "code",
      "execution_count": null,
      "metadata": {
        "id": "zxORVYFK89wu"
      },
      "outputs": [],
      "source": [
        "def linearisation(numerator, denominator):\n",
        "    E_num = numpy.mean(numerator)\n",
        "    E_den = numpy.mean(denominator)\n",
        "    return E_num / E_den + 1 / E_den * (numerator - E_num / E_den * denominator)"
      ],
      "id": "zxORVYFK89wu"
    },
    {
      "cell_type": "code",
      "execution_count": null,
      "metadata": {
        "id": "dH9nh4Sk89wu",
        "outputId": "ee39c506-217b-498b-8a39-58a8fdbfea19",
        "colab": {
          "referenced_widgets": [
            "44af6ad55e674641a935a4e9e7f93f16"
          ]
        }
      },
      "outputs": [
        {
          "data": {
            "application/vnd.jupyter.widget-view+json": {
              "model_id": "44af6ad55e674641a935a4e9e7f93f16",
              "version_major": 2,
              "version_minor": 0
            },
            "text/plain": [
              "  0%|          | 0/1000 [00:00<?, ?it/s]"
            ]
          },
          "metadata": {},
          "output_type": "display_data"
        },
        {
          "name": "stdout",
          "output_type": "stream",
          "text": [
            "FPR, bootstrap: 0.052, [0.0399, 0.0676]\n",
            "FPR, linearisation: 0.049, [0.0373, 0.0642]\n"
          ]
        }
      ],
      "source": [
        "numpy.random.seed(8)\n",
        "\n",
        "bad_cnt_linearisation = 0\n",
        "bad_cnt_bootstrap = 0\n",
        "\n",
        "for _ in tqdm(range(mc_size)):\n",
        "    test_sample = generate_group_sample_equal_cr(group_size)\n",
        "    control_sample = generate_group_sample_equal_cr(group_size)\n",
        "    test_Z = linearisation(test_sample['O_array'], test_sample['message_array'])\n",
        "    control_Z = linearisation(control_sample['O_array'], control_sample['message_array'])\n",
        "\n",
        "    # Запускаю критерий и строю доверительный интервал\n",
        "    left_bound, right_bound = ratio_bootstrap(\n",
        "        test_sample['O_array'],\n",
        "        control_sample['O_array'],\n",
        "        test_sample['message_array'],\n",
        "        control_sample['message_array']\n",
        "    )\n",
        "    pvalue_linearise = ttest_ind(test_Z, control_Z, equal_var=False, alternative='two-sided').pvalue\n",
        "\n",
        "\n",
        "    bad_cnt_linearisation += (pvalue_linearise < 0.05)\n",
        "    bad_cnt_bootstrap += ((left_bound > 0) | (right_bound < 0))\n",
        "\n",
        "\n",
        "bootstrap_fpr = round(bad_cnt_bootstrap / mc_size, 4)\n",
        "bootstrap_left, bootstrap_right = proportion_confint(count = bad_cnt_bootstrap,\n",
        "                                               nobs = mc_size, alpha=0.05, method='wilson')\n",
        "print(f\"FPR, bootstrap: {round(bootstrap_fpr, 4)},\"\\\n",
        "      f\" [{round(bootstrap_left, 4)}, {round(bootstrap_right, 4)}]\")\n",
        "\n",
        "linearise_fpr = round(bad_cnt_linearisation / mc_size, 4)\n",
        "linearise_left, linearise_right = proportion_confint(count = bad_cnt_linearisation,\n",
        "                                           nobs = mc_size, alpha=0.05, method='wilson')\n",
        "print(f\"FPR, linearisation: {round(linearise_fpr, 4)},\"\\\n",
        "      f\" [{round(linearise_left, 4)}, {round(linearise_right, 4)}]\")\n"
      ],
      "id": "dH9nh4Sk89wu"
    },
    {
      "cell_type": "markdown",
      "metadata": {
        "id": "28xmH7dF89wv"
      },
      "source": [
        "Да, мы видим, что критерий прекрасно работает! А теперь давайте сравним время работы бутстрапа и линеаризации:"
      ],
      "id": "28xmH7dF89wv"
    },
    {
      "cell_type": "markdown",
      "metadata": {
        "id": "RbE5SdAr89wv"
      },
      "source": [
        "## Сравнение линеаризации и бутстрапа"
      ],
      "id": "RbE5SdAr89wv"
    },
    {
      "cell_type": "code",
      "execution_count": null,
      "metadata": {
        "id": "Ba_cFfUh89wv"
      },
      "outputs": [],
      "source": [
        "group_size = 10000\n",
        "test_sample = generate_group_sample_equal_cr(group_size)\n",
        "control_sample = generate_group_sample_equal_cr(group_size)"
      ],
      "id": "Ba_cFfUh89wv"
    },
    {
      "cell_type": "code",
      "execution_count": null,
      "metadata": {
        "id": "UZjXJ-dz89wv",
        "outputId": "45cd3af8-74e6-4723-8d87-1a6f1e173986"
      },
      "outputs": [
        {
          "name": "stdout",
          "output_type": "stream",
          "text": [
            "CPU times: user 397 ms, sys: 23.9 ms, total: 421 ms\n",
            "Wall time: 420 ms\n"
          ]
        }
      ],
      "source": [
        "%%time\n",
        "left_bound, right_bound = ratio_bootstrap(\n",
        "                                test_sample['O_array'],\n",
        "                                control_sample['O_array'],\n",
        "                                test_sample['message_array'],\n",
        "                                control_sample['message_array']\n",
        "                            )"
      ],
      "id": "UZjXJ-dz89wv"
    },
    {
      "cell_type": "code",
      "execution_count": null,
      "metadata": {
        "id": "PPpk6nvL89wv",
        "outputId": "a1212dbb-82f3-4954-b2f8-d55351d6a5ec"
      },
      "outputs": [
        {
          "name": "stdout",
          "output_type": "stream",
          "text": [
            "CPU times: user 0 ns, sys: 1.96 ms, total: 1.96 ms\n",
            "Wall time: 1.27 ms\n"
          ]
        }
      ],
      "source": [
        "%%time\n",
        "test_Z = linearisation(test_sample['O_array'], test_sample['message_array'])\n",
        "control_Z = linearisation(control_sample['O_array'], control_sample['message_array'])\n",
        "\n",
        "pvalue_linearise = ttest_ind(test_Z, control_Z, equal_var=False, alternative='two-sided').pvalue"
      ],
      "id": "PPpk6nvL89wv"
    },
    {
      "cell_type": "markdown",
      "metadata": {
        "id": "b03dmfIF89wv"
      },
      "source": [
        "Быстрее практически в 400 раз! Что логично, бутстрап работает за `O(NB)` времени (где B &mdash; число бутстрап выборок), а линеаризация работает за `O(N)`.\n",
        "\n",
        "\n",
        "Также хочется отметить, что линеаризация позволяет написать 1 раз t-test и в зависимости от того, хотите ли вы считать ratio-метрику или считать сразу разницу числителей (например, сразу разницу числа покупок), вы должны подставить в код критерия разные выборки: или выборку числителей или Z-выборку. Что сильно упрощает работу автоматизированной системы проведения AB-тестов, о которой мы говорили в начале раздела."
      ],
      "id": "b03dmfIF89wv"
    },
    {
      "cell_type": "markdown",
      "metadata": {
        "id": "ikiw4yQm89wv"
      },
      "source": [
        "----\n",
        "## Альтернативная гипотеза в T-test. Сравниваем среднюю конверсию на одного пользователя.\n",
        "\n",
        "Часто, когда аналитики сталкиваются с ratio метриками, у них возникает идея вместо гипотезы улучшения конверсии в чат для Авито:\n",
        "\n",
        "$H_1: \\mathbb{E} \\dfrac{\\sum M^T}{\\sum O^T} > \\mathbb{E} \\dfrac{\\sum M^C}{\\sum O^C}$\n",
        "\n",
        "использовать гипотезу улучшения конверсии у каждого отдельного пользователя\n",
        "\n",
        "$H_1: \\mathbb{E} \\dfrac{M^T}{O^T} > \\mathbb{E} \\dfrac{M^C}{O^C}$\n",
        "\n",
        "\n",
        "Например, в нашей изначальной задаче было бы следующее:\n",
        "\n",
        "\n",
        "\n",
        "| Id пользователя | Сколько раз зашел на страницу объявления? | Сколько раз начал общение в чате? | конверсия |\n",
        "|------|----------------------------------------|-----------------------|---------------|\n",
        "| 1    | 5                                      | 5                     | 1              |\n",
        "| 2    | 4                                      | 1                     | 1/4            |\n",
        "| 3    | 0                                      | 0                     | пропускаем     |\n",
        "| 4    | 6                                      | 4                     | 4/6 |\n",
        "\n",
        "\n",
        "Мы получили выборку [1, 1/4, 4/6], где значений меньше, чем пользователей: непонятно, что делать с 0 заказов. Итоговое среднее в этой выборке ~47%, что не совпадает с 66% – нашим искомым значением. В этом случае, мы будем считать другую статистику, а не ту, что нас интересовала изначально в задаче!\n",
        "\n",
        "\n",
        "Посмотрим математически:\n",
        "- $O$ &mdash; число открытий объявлений пользователями.\n",
        "- $M$ &mdash; число заходов в мессенджер пользователями.\n",
        "\n",
        "\n",
        "Нас интересует посчитать $\\mathbb{E} \\dfrac{\\sum M}{\\sum O}$ (общая конверсия из открытия объявления в чат), а в текущем решении мы считаем $\\mathbb{E} \\dfrac{M}{O}$ (средняя конверсия одного пользователя из объявления в чат, или среднее средних), и это разные вещи!\n",
        "\n",
        "$$\\mathbb{E} \\dfrac{\\sum M}{\\sum O} = \\mathbb{E} \\dfrac{\\overline M}{ \\overline O} \\neq \\mathbb{E} \\dfrac{M}{O}$$\n",
        "\n",
        "Рассмотрим такой пример:\n",
        "\n",
        "Пусть есть 10 пользователей:\n",
        "- у одного 1000 заходов, а количество открытий – 100.\n",
        "- а у остальных 1 заход и 1 открытие чата.\n",
        "\n",
        "Конверсия в чаты для всего Авито это 109/1009, что примерно 11%. А средняя конверсия по пользователям – $\\dfrac{1/10 + 9}{10} = 91\\%$. Это очень большая разница.\n",
        "\n",
        "\n",
        "**При этом первая конверсия вас интересует больше**: рост $\\mathbb{E} \\dfrac{\\sum M}{\\sum O}$ на $X\\%$ эквивалентен росту $\\mathbb{E} M$ на $X \\%$ (вы увеличили число чатов на X процентов), что вас и интересует на самом деле. А для второй дроби вы утверждать такое не можете.\n",
        "\n",
        "Поэтому текущий метод не подходит: он не считает то, что нам надо."
      ],
      "id": "ikiw4yQm89wv"
    },
    {
      "cell_type": "markdown",
      "metadata": {
        "id": "47nbC6HG89wv"
      },
      "source": [
        "# Итоги\n",
        "\n",
        "На текущей лекции мы рассмотрели с вами\n",
        "- Что такое ratio-метрики. А также показали, что это отличный способ уменьшить шум в данных и получить более мощный критерий.\n",
        "    - Но надо помнить, что если вы вашим изменением в AB-тесте могли изменить знаменатель, то это стоит дополнительно проверить.\n",
        "- Решили задачу ratio метрики двумя способами: через бутстрап и через линеаризацию. И показали преимущества линеаризации над бутстрапом.\n",
        "- На практике увидели, что такое зависимость в данных и чем она опасна.\n",
        "- Показали 2 примера, как не надо решать задачу про ratio-метрики."
      ],
      "id": "47nbC6HG89wv"
    }
  ],
  "metadata": {
    "kernelspec": {
      "display_name": "Python 3",
      "language": "python",
      "name": "python3"
    },
    "language_info": {
      "codemirror_mode": {
        "name": "ipython",
        "version": 3
      },
      "file_extension": ".py",
      "mimetype": "text/x-python",
      "name": "python",
      "nbconvert_exporter": "python",
      "pygments_lexer": "ipython3",
      "version": "3.8.6"
    },
    "colab": {
      "provenance": []
    },
    "widgets": {
      "application/vnd.jupyter.widget-state+json": {
        "263aa16c0a854cbfa78eaebcf65f5008": {
          "model_module": "@jupyter-widgets/controls",
          "model_name": "HBoxModel",
          "model_module_version": "1.5.0",
          "state": {
            "_dom_classes": [],
            "_model_module": "@jupyter-widgets/controls",
            "_model_module_version": "1.5.0",
            "_model_name": "HBoxModel",
            "_view_count": null,
            "_view_module": "@jupyter-widgets/controls",
            "_view_module_version": "1.5.0",
            "_view_name": "HBoxView",
            "box_style": "",
            "children": [
              "IPY_MODEL_e0390216283e445f8af90f2aa5b91039",
              "IPY_MODEL_6838c3f5cb3a4bb59931d7b2fe29744d",
              "IPY_MODEL_b7cb38bf76cb4620815059f8aefdb853"
            ],
            "layout": "IPY_MODEL_6aa9581d83654ebba04e3d8e136e046e"
          }
        },
        "e0390216283e445f8af90f2aa5b91039": {
          "model_module": "@jupyter-widgets/controls",
          "model_name": "HTMLModel",
          "model_module_version": "1.5.0",
          "state": {
            "_dom_classes": [],
            "_model_module": "@jupyter-widgets/controls",
            "_model_module_version": "1.5.0",
            "_model_name": "HTMLModel",
            "_view_count": null,
            "_view_module": "@jupyter-widgets/controls",
            "_view_module_version": "1.5.0",
            "_view_name": "HTMLView",
            "description": "",
            "description_tooltip": null,
            "layout": "IPY_MODEL_86b7ef7b543a45d4b74b18d5040479a7",
            "placeholder": "​",
            "style": "IPY_MODEL_da1e30d59930472988d5efc1b1976f07",
            "value": "100%"
          }
        },
        "6838c3f5cb3a4bb59931d7b2fe29744d": {
          "model_module": "@jupyter-widgets/controls",
          "model_name": "FloatProgressModel",
          "model_module_version": "1.5.0",
          "state": {
            "_dom_classes": [],
            "_model_module": "@jupyter-widgets/controls",
            "_model_module_version": "1.5.0",
            "_model_name": "FloatProgressModel",
            "_view_count": null,
            "_view_module": "@jupyter-widgets/controls",
            "_view_module_version": "1.5.0",
            "_view_name": "ProgressView",
            "bar_style": "success",
            "description": "",
            "description_tooltip": null,
            "layout": "IPY_MODEL_11a11bd44b8b4061b7b3209f86f1d96f",
            "max": 1000,
            "min": 0,
            "orientation": "horizontal",
            "style": "IPY_MODEL_edc6b16d654e4b22baa5cf78177332d6",
            "value": 1000
          }
        },
        "b7cb38bf76cb4620815059f8aefdb853": {
          "model_module": "@jupyter-widgets/controls",
          "model_name": "HTMLModel",
          "model_module_version": "1.5.0",
          "state": {
            "_dom_classes": [],
            "_model_module": "@jupyter-widgets/controls",
            "_model_module_version": "1.5.0",
            "_model_name": "HTMLModel",
            "_view_count": null,
            "_view_module": "@jupyter-widgets/controls",
            "_view_module_version": "1.5.0",
            "_view_name": "HTMLView",
            "description": "",
            "description_tooltip": null,
            "layout": "IPY_MODEL_48908ba4801648aa8ec8cc7689d635ae",
            "placeholder": "​",
            "style": "IPY_MODEL_d478486453364d8ab452a8399ca1ffde",
            "value": " 1000/1000 [00:19&lt;00:00, 59.50it/s]"
          }
        },
        "6aa9581d83654ebba04e3d8e136e046e": {
          "model_module": "@jupyter-widgets/base",
          "model_name": "LayoutModel",
          "model_module_version": "1.2.0",
          "state": {
            "_model_module": "@jupyter-widgets/base",
            "_model_module_version": "1.2.0",
            "_model_name": "LayoutModel",
            "_view_count": null,
            "_view_module": "@jupyter-widgets/base",
            "_view_module_version": "1.2.0",
            "_view_name": "LayoutView",
            "align_content": null,
            "align_items": null,
            "align_self": null,
            "border": null,
            "bottom": null,
            "display": null,
            "flex": null,
            "flex_flow": null,
            "grid_area": null,
            "grid_auto_columns": null,
            "grid_auto_flow": null,
            "grid_auto_rows": null,
            "grid_column": null,
            "grid_gap": null,
            "grid_row": null,
            "grid_template_areas": null,
            "grid_template_columns": null,
            "grid_template_rows": null,
            "height": null,
            "justify_content": null,
            "justify_items": null,
            "left": null,
            "margin": null,
            "max_height": null,
            "max_width": null,
            "min_height": null,
            "min_width": null,
            "object_fit": null,
            "object_position": null,
            "order": null,
            "overflow": null,
            "overflow_x": null,
            "overflow_y": null,
            "padding": null,
            "right": null,
            "top": null,
            "visibility": null,
            "width": null
          }
        },
        "86b7ef7b543a45d4b74b18d5040479a7": {
          "model_module": "@jupyter-widgets/base",
          "model_name": "LayoutModel",
          "model_module_version": "1.2.0",
          "state": {
            "_model_module": "@jupyter-widgets/base",
            "_model_module_version": "1.2.0",
            "_model_name": "LayoutModel",
            "_view_count": null,
            "_view_module": "@jupyter-widgets/base",
            "_view_module_version": "1.2.0",
            "_view_name": "LayoutView",
            "align_content": null,
            "align_items": null,
            "align_self": null,
            "border": null,
            "bottom": null,
            "display": null,
            "flex": null,
            "flex_flow": null,
            "grid_area": null,
            "grid_auto_columns": null,
            "grid_auto_flow": null,
            "grid_auto_rows": null,
            "grid_column": null,
            "grid_gap": null,
            "grid_row": null,
            "grid_template_areas": null,
            "grid_template_columns": null,
            "grid_template_rows": null,
            "height": null,
            "justify_content": null,
            "justify_items": null,
            "left": null,
            "margin": null,
            "max_height": null,
            "max_width": null,
            "min_height": null,
            "min_width": null,
            "object_fit": null,
            "object_position": null,
            "order": null,
            "overflow": null,
            "overflow_x": null,
            "overflow_y": null,
            "padding": null,
            "right": null,
            "top": null,
            "visibility": null,
            "width": null
          }
        },
        "da1e30d59930472988d5efc1b1976f07": {
          "model_module": "@jupyter-widgets/controls",
          "model_name": "DescriptionStyleModel",
          "model_module_version": "1.5.0",
          "state": {
            "_model_module": "@jupyter-widgets/controls",
            "_model_module_version": "1.5.0",
            "_model_name": "DescriptionStyleModel",
            "_view_count": null,
            "_view_module": "@jupyter-widgets/base",
            "_view_module_version": "1.2.0",
            "_view_name": "StyleView",
            "description_width": ""
          }
        },
        "11a11bd44b8b4061b7b3209f86f1d96f": {
          "model_module": "@jupyter-widgets/base",
          "model_name": "LayoutModel",
          "model_module_version": "1.2.0",
          "state": {
            "_model_module": "@jupyter-widgets/base",
            "_model_module_version": "1.2.0",
            "_model_name": "LayoutModel",
            "_view_count": null,
            "_view_module": "@jupyter-widgets/base",
            "_view_module_version": "1.2.0",
            "_view_name": "LayoutView",
            "align_content": null,
            "align_items": null,
            "align_self": null,
            "border": null,
            "bottom": null,
            "display": null,
            "flex": null,
            "flex_flow": null,
            "grid_area": null,
            "grid_auto_columns": null,
            "grid_auto_flow": null,
            "grid_auto_rows": null,
            "grid_column": null,
            "grid_gap": null,
            "grid_row": null,
            "grid_template_areas": null,
            "grid_template_columns": null,
            "grid_template_rows": null,
            "height": null,
            "justify_content": null,
            "justify_items": null,
            "left": null,
            "margin": null,
            "max_height": null,
            "max_width": null,
            "min_height": null,
            "min_width": null,
            "object_fit": null,
            "object_position": null,
            "order": null,
            "overflow": null,
            "overflow_x": null,
            "overflow_y": null,
            "padding": null,
            "right": null,
            "top": null,
            "visibility": null,
            "width": null
          }
        },
        "edc6b16d654e4b22baa5cf78177332d6": {
          "model_module": "@jupyter-widgets/controls",
          "model_name": "ProgressStyleModel",
          "model_module_version": "1.5.0",
          "state": {
            "_model_module": "@jupyter-widgets/controls",
            "_model_module_version": "1.5.0",
            "_model_name": "ProgressStyleModel",
            "_view_count": null,
            "_view_module": "@jupyter-widgets/base",
            "_view_module_version": "1.2.0",
            "_view_name": "StyleView",
            "bar_color": null,
            "description_width": ""
          }
        },
        "48908ba4801648aa8ec8cc7689d635ae": {
          "model_module": "@jupyter-widgets/base",
          "model_name": "LayoutModel",
          "model_module_version": "1.2.0",
          "state": {
            "_model_module": "@jupyter-widgets/base",
            "_model_module_version": "1.2.0",
            "_model_name": "LayoutModel",
            "_view_count": null,
            "_view_module": "@jupyter-widgets/base",
            "_view_module_version": "1.2.0",
            "_view_name": "LayoutView",
            "align_content": null,
            "align_items": null,
            "align_self": null,
            "border": null,
            "bottom": null,
            "display": null,
            "flex": null,
            "flex_flow": null,
            "grid_area": null,
            "grid_auto_columns": null,
            "grid_auto_flow": null,
            "grid_auto_rows": null,
            "grid_column": null,
            "grid_gap": null,
            "grid_row": null,
            "grid_template_areas": null,
            "grid_template_columns": null,
            "grid_template_rows": null,
            "height": null,
            "justify_content": null,
            "justify_items": null,
            "left": null,
            "margin": null,
            "max_height": null,
            "max_width": null,
            "min_height": null,
            "min_width": null,
            "object_fit": null,
            "object_position": null,
            "order": null,
            "overflow": null,
            "overflow_x": null,
            "overflow_y": null,
            "padding": null,
            "right": null,
            "top": null,
            "visibility": null,
            "width": null
          }
        },
        "d478486453364d8ab452a8399ca1ffde": {
          "model_module": "@jupyter-widgets/controls",
          "model_name": "DescriptionStyleModel",
          "model_module_version": "1.5.0",
          "state": {
            "_model_module": "@jupyter-widgets/controls",
            "_model_module_version": "1.5.0",
            "_model_name": "DescriptionStyleModel",
            "_view_count": null,
            "_view_module": "@jupyter-widgets/base",
            "_view_module_version": "1.2.0",
            "_view_name": "StyleView",
            "description_width": ""
          }
        },
        "f81eec3183184f2da9795c0a7e9fc640": {
          "model_module": "@jupyter-widgets/controls",
          "model_name": "HBoxModel",
          "model_module_version": "1.5.0",
          "state": {
            "_dom_classes": [],
            "_model_module": "@jupyter-widgets/controls",
            "_model_module_version": "1.5.0",
            "_model_name": "HBoxModel",
            "_view_count": null,
            "_view_module": "@jupyter-widgets/controls",
            "_view_module_version": "1.5.0",
            "_view_name": "HBoxView",
            "box_style": "",
            "children": [
              "IPY_MODEL_d73de38b48bc4381be33a70eacec22d7",
              "IPY_MODEL_91092bc655ac4b379b954b3c7180cf54",
              "IPY_MODEL_d6d31c0282d948b3863d406db2b19e7b"
            ],
            "layout": "IPY_MODEL_6c3f254266f34684ad6ca0d0c5ee36b1"
          }
        },
        "d73de38b48bc4381be33a70eacec22d7": {
          "model_module": "@jupyter-widgets/controls",
          "model_name": "HTMLModel",
          "model_module_version": "1.5.0",
          "state": {
            "_dom_classes": [],
            "_model_module": "@jupyter-widgets/controls",
            "_model_module_version": "1.5.0",
            "_model_name": "HTMLModel",
            "_view_count": null,
            "_view_module": "@jupyter-widgets/controls",
            "_view_module_version": "1.5.0",
            "_view_name": "HTMLView",
            "description": "",
            "description_tooltip": null,
            "layout": "IPY_MODEL_d8ea0cbe59004ffd9209dc3c168c6735",
            "placeholder": "​",
            "style": "IPY_MODEL_237482da4aae4e77b47e7ccd400fd2d6",
            "value": "100%"
          }
        },
        "91092bc655ac4b379b954b3c7180cf54": {
          "model_module": "@jupyter-widgets/controls",
          "model_name": "FloatProgressModel",
          "model_module_version": "1.5.0",
          "state": {
            "_dom_classes": [],
            "_model_module": "@jupyter-widgets/controls",
            "_model_module_version": "1.5.0",
            "_model_name": "FloatProgressModel",
            "_view_count": null,
            "_view_module": "@jupyter-widgets/controls",
            "_view_module_version": "1.5.0",
            "_view_name": "ProgressView",
            "bar_style": "success",
            "description": "",
            "description_tooltip": null,
            "layout": "IPY_MODEL_64438b4f389b40da9aaba0249789a068",
            "max": 1000,
            "min": 0,
            "orientation": "horizontal",
            "style": "IPY_MODEL_b7df8161b423418aad64633a9de73c96",
            "value": 1000
          }
        },
        "d6d31c0282d948b3863d406db2b19e7b": {
          "model_module": "@jupyter-widgets/controls",
          "model_name": "HTMLModel",
          "model_module_version": "1.5.0",
          "state": {
            "_dom_classes": [],
            "_model_module": "@jupyter-widgets/controls",
            "_model_module_version": "1.5.0",
            "_model_name": "HTMLModel",
            "_view_count": null,
            "_view_module": "@jupyter-widgets/controls",
            "_view_module_version": "1.5.0",
            "_view_name": "HTMLView",
            "description": "",
            "description_tooltip": null,
            "layout": "IPY_MODEL_99c295cf256d4b53bf17aceec3185cfd",
            "placeholder": "​",
            "style": "IPY_MODEL_91bfed30d20f4e229320eff4cb9cae7c",
            "value": " 1000/1000 [00:09&lt;00:00, 95.90it/s]"
          }
        },
        "6c3f254266f34684ad6ca0d0c5ee36b1": {
          "model_module": "@jupyter-widgets/base",
          "model_name": "LayoutModel",
          "model_module_version": "1.2.0",
          "state": {
            "_model_module": "@jupyter-widgets/base",
            "_model_module_version": "1.2.0",
            "_model_name": "LayoutModel",
            "_view_count": null,
            "_view_module": "@jupyter-widgets/base",
            "_view_module_version": "1.2.0",
            "_view_name": "LayoutView",
            "align_content": null,
            "align_items": null,
            "align_self": null,
            "border": null,
            "bottom": null,
            "display": null,
            "flex": null,
            "flex_flow": null,
            "grid_area": null,
            "grid_auto_columns": null,
            "grid_auto_flow": null,
            "grid_auto_rows": null,
            "grid_column": null,
            "grid_gap": null,
            "grid_row": null,
            "grid_template_areas": null,
            "grid_template_columns": null,
            "grid_template_rows": null,
            "height": null,
            "justify_content": null,
            "justify_items": null,
            "left": null,
            "margin": null,
            "max_height": null,
            "max_width": null,
            "min_height": null,
            "min_width": null,
            "object_fit": null,
            "object_position": null,
            "order": null,
            "overflow": null,
            "overflow_x": null,
            "overflow_y": null,
            "padding": null,
            "right": null,
            "top": null,
            "visibility": null,
            "width": null
          }
        },
        "d8ea0cbe59004ffd9209dc3c168c6735": {
          "model_module": "@jupyter-widgets/base",
          "model_name": "LayoutModel",
          "model_module_version": "1.2.0",
          "state": {
            "_model_module": "@jupyter-widgets/base",
            "_model_module_version": "1.2.0",
            "_model_name": "LayoutModel",
            "_view_count": null,
            "_view_module": "@jupyter-widgets/base",
            "_view_module_version": "1.2.0",
            "_view_name": "LayoutView",
            "align_content": null,
            "align_items": null,
            "align_self": null,
            "border": null,
            "bottom": null,
            "display": null,
            "flex": null,
            "flex_flow": null,
            "grid_area": null,
            "grid_auto_columns": null,
            "grid_auto_flow": null,
            "grid_auto_rows": null,
            "grid_column": null,
            "grid_gap": null,
            "grid_row": null,
            "grid_template_areas": null,
            "grid_template_columns": null,
            "grid_template_rows": null,
            "height": null,
            "justify_content": null,
            "justify_items": null,
            "left": null,
            "margin": null,
            "max_height": null,
            "max_width": null,
            "min_height": null,
            "min_width": null,
            "object_fit": null,
            "object_position": null,
            "order": null,
            "overflow": null,
            "overflow_x": null,
            "overflow_y": null,
            "padding": null,
            "right": null,
            "top": null,
            "visibility": null,
            "width": null
          }
        },
        "237482da4aae4e77b47e7ccd400fd2d6": {
          "model_module": "@jupyter-widgets/controls",
          "model_name": "DescriptionStyleModel",
          "model_module_version": "1.5.0",
          "state": {
            "_model_module": "@jupyter-widgets/controls",
            "_model_module_version": "1.5.0",
            "_model_name": "DescriptionStyleModel",
            "_view_count": null,
            "_view_module": "@jupyter-widgets/base",
            "_view_module_version": "1.2.0",
            "_view_name": "StyleView",
            "description_width": ""
          }
        },
        "64438b4f389b40da9aaba0249789a068": {
          "model_module": "@jupyter-widgets/base",
          "model_name": "LayoutModel",
          "model_module_version": "1.2.0",
          "state": {
            "_model_module": "@jupyter-widgets/base",
            "_model_module_version": "1.2.0",
            "_model_name": "LayoutModel",
            "_view_count": null,
            "_view_module": "@jupyter-widgets/base",
            "_view_module_version": "1.2.0",
            "_view_name": "LayoutView",
            "align_content": null,
            "align_items": null,
            "align_self": null,
            "border": null,
            "bottom": null,
            "display": null,
            "flex": null,
            "flex_flow": null,
            "grid_area": null,
            "grid_auto_columns": null,
            "grid_auto_flow": null,
            "grid_auto_rows": null,
            "grid_column": null,
            "grid_gap": null,
            "grid_row": null,
            "grid_template_areas": null,
            "grid_template_columns": null,
            "grid_template_rows": null,
            "height": null,
            "justify_content": null,
            "justify_items": null,
            "left": null,
            "margin": null,
            "max_height": null,
            "max_width": null,
            "min_height": null,
            "min_width": null,
            "object_fit": null,
            "object_position": null,
            "order": null,
            "overflow": null,
            "overflow_x": null,
            "overflow_y": null,
            "padding": null,
            "right": null,
            "top": null,
            "visibility": null,
            "width": null
          }
        },
        "b7df8161b423418aad64633a9de73c96": {
          "model_module": "@jupyter-widgets/controls",
          "model_name": "ProgressStyleModel",
          "model_module_version": "1.5.0",
          "state": {
            "_model_module": "@jupyter-widgets/controls",
            "_model_module_version": "1.5.0",
            "_model_name": "ProgressStyleModel",
            "_view_count": null,
            "_view_module": "@jupyter-widgets/base",
            "_view_module_version": "1.2.0",
            "_view_name": "StyleView",
            "bar_color": null,
            "description_width": ""
          }
        },
        "99c295cf256d4b53bf17aceec3185cfd": {
          "model_module": "@jupyter-widgets/base",
          "model_name": "LayoutModel",
          "model_module_version": "1.2.0",
          "state": {
            "_model_module": "@jupyter-widgets/base",
            "_model_module_version": "1.2.0",
            "_model_name": "LayoutModel",
            "_view_count": null,
            "_view_module": "@jupyter-widgets/base",
            "_view_module_version": "1.2.0",
            "_view_name": "LayoutView",
            "align_content": null,
            "align_items": null,
            "align_self": null,
            "border": null,
            "bottom": null,
            "display": null,
            "flex": null,
            "flex_flow": null,
            "grid_area": null,
            "grid_auto_columns": null,
            "grid_auto_flow": null,
            "grid_auto_rows": null,
            "grid_column": null,
            "grid_gap": null,
            "grid_row": null,
            "grid_template_areas": null,
            "grid_template_columns": null,
            "grid_template_rows": null,
            "height": null,
            "justify_content": null,
            "justify_items": null,
            "left": null,
            "margin": null,
            "max_height": null,
            "max_width": null,
            "min_height": null,
            "min_width": null,
            "object_fit": null,
            "object_position": null,
            "order": null,
            "overflow": null,
            "overflow_x": null,
            "overflow_y": null,
            "padding": null,
            "right": null,
            "top": null,
            "visibility": null,
            "width": null
          }
        },
        "91bfed30d20f4e229320eff4cb9cae7c": {
          "model_module": "@jupyter-widgets/controls",
          "model_name": "DescriptionStyleModel",
          "model_module_version": "1.5.0",
          "state": {
            "_model_module": "@jupyter-widgets/controls",
            "_model_module_version": "1.5.0",
            "_model_name": "DescriptionStyleModel",
            "_view_count": null,
            "_view_module": "@jupyter-widgets/base",
            "_view_module_version": "1.2.0",
            "_view_name": "StyleView",
            "description_width": ""
          }
        },
        "1c15db853958453a9ea41f8c787d8dd6": {
          "model_module": "@jupyter-widgets/controls",
          "model_name": "HBoxModel",
          "model_module_version": "1.5.0",
          "state": {
            "_dom_classes": [],
            "_model_module": "@jupyter-widgets/controls",
            "_model_module_version": "1.5.0",
            "_model_name": "HBoxModel",
            "_view_count": null,
            "_view_module": "@jupyter-widgets/controls",
            "_view_module_version": "1.5.0",
            "_view_name": "HBoxView",
            "box_style": "",
            "children": [
              "IPY_MODEL_b889143e8726423ca6a8ecc57ce9e52c",
              "IPY_MODEL_55f94fa44e264895b96edfee816bad77",
              "IPY_MODEL_9fee18bc61c142b08253ff62cdcb7fdc"
            ],
            "layout": "IPY_MODEL_0ecce6d2efa84f14a5f8dfd76bcbbc38"
          }
        },
        "b889143e8726423ca6a8ecc57ce9e52c": {
          "model_module": "@jupyter-widgets/controls",
          "model_name": "HTMLModel",
          "model_module_version": "1.5.0",
          "state": {
            "_dom_classes": [],
            "_model_module": "@jupyter-widgets/controls",
            "_model_module_version": "1.5.0",
            "_model_name": "HTMLModel",
            "_view_count": null,
            "_view_module": "@jupyter-widgets/controls",
            "_view_module_version": "1.5.0",
            "_view_name": "HTMLView",
            "description": "",
            "description_tooltip": null,
            "layout": "IPY_MODEL_2573882e7b354317aa020545f7cbbeb1",
            "placeholder": "​",
            "style": "IPY_MODEL_c7d946076fee4805b85765900160899f",
            "value": "100%"
          }
        },
        "55f94fa44e264895b96edfee816bad77": {
          "model_module": "@jupyter-widgets/controls",
          "model_name": "FloatProgressModel",
          "model_module_version": "1.5.0",
          "state": {
            "_dom_classes": [],
            "_model_module": "@jupyter-widgets/controls",
            "_model_module_version": "1.5.0",
            "_model_name": "FloatProgressModel",
            "_view_count": null,
            "_view_module": "@jupyter-widgets/controls",
            "_view_module_version": "1.5.0",
            "_view_name": "ProgressView",
            "bar_style": "success",
            "description": "",
            "description_tooltip": null,
            "layout": "IPY_MODEL_1d4a17db1b0d49c3b6fa4902f06b2cc4",
            "max": 1000,
            "min": 0,
            "orientation": "horizontal",
            "style": "IPY_MODEL_b21a459674eb421f8d142b3af1df9537",
            "value": 1000
          }
        },
        "9fee18bc61c142b08253ff62cdcb7fdc": {
          "model_module": "@jupyter-widgets/controls",
          "model_name": "HTMLModel",
          "model_module_version": "1.5.0",
          "state": {
            "_dom_classes": [],
            "_model_module": "@jupyter-widgets/controls",
            "_model_module_version": "1.5.0",
            "_model_name": "HTMLModel",
            "_view_count": null,
            "_view_module": "@jupyter-widgets/controls",
            "_view_module_version": "1.5.0",
            "_view_name": "HTMLView",
            "description": "",
            "description_tooltip": null,
            "layout": "IPY_MODEL_2d2bb40c7de24342843e3cd587bd3f33",
            "placeholder": "​",
            "style": "IPY_MODEL_0102ee175dde446280c4d5d7a66c7d28",
            "value": " 1000/1000 [00:08&lt;00:00, 171.70it/s]"
          }
        },
        "0ecce6d2efa84f14a5f8dfd76bcbbc38": {
          "model_module": "@jupyter-widgets/base",
          "model_name": "LayoutModel",
          "model_module_version": "1.2.0",
          "state": {
            "_model_module": "@jupyter-widgets/base",
            "_model_module_version": "1.2.0",
            "_model_name": "LayoutModel",
            "_view_count": null,
            "_view_module": "@jupyter-widgets/base",
            "_view_module_version": "1.2.0",
            "_view_name": "LayoutView",
            "align_content": null,
            "align_items": null,
            "align_self": null,
            "border": null,
            "bottom": null,
            "display": null,
            "flex": null,
            "flex_flow": null,
            "grid_area": null,
            "grid_auto_columns": null,
            "grid_auto_flow": null,
            "grid_auto_rows": null,
            "grid_column": null,
            "grid_gap": null,
            "grid_row": null,
            "grid_template_areas": null,
            "grid_template_columns": null,
            "grid_template_rows": null,
            "height": null,
            "justify_content": null,
            "justify_items": null,
            "left": null,
            "margin": null,
            "max_height": null,
            "max_width": null,
            "min_height": null,
            "min_width": null,
            "object_fit": null,
            "object_position": null,
            "order": null,
            "overflow": null,
            "overflow_x": null,
            "overflow_y": null,
            "padding": null,
            "right": null,
            "top": null,
            "visibility": null,
            "width": null
          }
        },
        "2573882e7b354317aa020545f7cbbeb1": {
          "model_module": "@jupyter-widgets/base",
          "model_name": "LayoutModel",
          "model_module_version": "1.2.0",
          "state": {
            "_model_module": "@jupyter-widgets/base",
            "_model_module_version": "1.2.0",
            "_model_name": "LayoutModel",
            "_view_count": null,
            "_view_module": "@jupyter-widgets/base",
            "_view_module_version": "1.2.0",
            "_view_name": "LayoutView",
            "align_content": null,
            "align_items": null,
            "align_self": null,
            "border": null,
            "bottom": null,
            "display": null,
            "flex": null,
            "flex_flow": null,
            "grid_area": null,
            "grid_auto_columns": null,
            "grid_auto_flow": null,
            "grid_auto_rows": null,
            "grid_column": null,
            "grid_gap": null,
            "grid_row": null,
            "grid_template_areas": null,
            "grid_template_columns": null,
            "grid_template_rows": null,
            "height": null,
            "justify_content": null,
            "justify_items": null,
            "left": null,
            "margin": null,
            "max_height": null,
            "max_width": null,
            "min_height": null,
            "min_width": null,
            "object_fit": null,
            "object_position": null,
            "order": null,
            "overflow": null,
            "overflow_x": null,
            "overflow_y": null,
            "padding": null,
            "right": null,
            "top": null,
            "visibility": null,
            "width": null
          }
        },
        "c7d946076fee4805b85765900160899f": {
          "model_module": "@jupyter-widgets/controls",
          "model_name": "DescriptionStyleModel",
          "model_module_version": "1.5.0",
          "state": {
            "_model_module": "@jupyter-widgets/controls",
            "_model_module_version": "1.5.0",
            "_model_name": "DescriptionStyleModel",
            "_view_count": null,
            "_view_module": "@jupyter-widgets/base",
            "_view_module_version": "1.2.0",
            "_view_name": "StyleView",
            "description_width": ""
          }
        },
        "1d4a17db1b0d49c3b6fa4902f06b2cc4": {
          "model_module": "@jupyter-widgets/base",
          "model_name": "LayoutModel",
          "model_module_version": "1.2.0",
          "state": {
            "_model_module": "@jupyter-widgets/base",
            "_model_module_version": "1.2.0",
            "_model_name": "LayoutModel",
            "_view_count": null,
            "_view_module": "@jupyter-widgets/base",
            "_view_module_version": "1.2.0",
            "_view_name": "LayoutView",
            "align_content": null,
            "align_items": null,
            "align_self": null,
            "border": null,
            "bottom": null,
            "display": null,
            "flex": null,
            "flex_flow": null,
            "grid_area": null,
            "grid_auto_columns": null,
            "grid_auto_flow": null,
            "grid_auto_rows": null,
            "grid_column": null,
            "grid_gap": null,
            "grid_row": null,
            "grid_template_areas": null,
            "grid_template_columns": null,
            "grid_template_rows": null,
            "height": null,
            "justify_content": null,
            "justify_items": null,
            "left": null,
            "margin": null,
            "max_height": null,
            "max_width": null,
            "min_height": null,
            "min_width": null,
            "object_fit": null,
            "object_position": null,
            "order": null,
            "overflow": null,
            "overflow_x": null,
            "overflow_y": null,
            "padding": null,
            "right": null,
            "top": null,
            "visibility": null,
            "width": null
          }
        },
        "b21a459674eb421f8d142b3af1df9537": {
          "model_module": "@jupyter-widgets/controls",
          "model_name": "ProgressStyleModel",
          "model_module_version": "1.5.0",
          "state": {
            "_model_module": "@jupyter-widgets/controls",
            "_model_module_version": "1.5.0",
            "_model_name": "ProgressStyleModel",
            "_view_count": null,
            "_view_module": "@jupyter-widgets/base",
            "_view_module_version": "1.2.0",
            "_view_name": "StyleView",
            "bar_color": null,
            "description_width": ""
          }
        },
        "2d2bb40c7de24342843e3cd587bd3f33": {
          "model_module": "@jupyter-widgets/base",
          "model_name": "LayoutModel",
          "model_module_version": "1.2.0",
          "state": {
            "_model_module": "@jupyter-widgets/base",
            "_model_module_version": "1.2.0",
            "_model_name": "LayoutModel",
            "_view_count": null,
            "_view_module": "@jupyter-widgets/base",
            "_view_module_version": "1.2.0",
            "_view_name": "LayoutView",
            "align_content": null,
            "align_items": null,
            "align_self": null,
            "border": null,
            "bottom": null,
            "display": null,
            "flex": null,
            "flex_flow": null,
            "grid_area": null,
            "grid_auto_columns": null,
            "grid_auto_flow": null,
            "grid_auto_rows": null,
            "grid_column": null,
            "grid_gap": null,
            "grid_row": null,
            "grid_template_areas": null,
            "grid_template_columns": null,
            "grid_template_rows": null,
            "height": null,
            "justify_content": null,
            "justify_items": null,
            "left": null,
            "margin": null,
            "max_height": null,
            "max_width": null,
            "min_height": null,
            "min_width": null,
            "object_fit": null,
            "object_position": null,
            "order": null,
            "overflow": null,
            "overflow_x": null,
            "overflow_y": null,
            "padding": null,
            "right": null,
            "top": null,
            "visibility": null,
            "width": null
          }
        },
        "0102ee175dde446280c4d5d7a66c7d28": {
          "model_module": "@jupyter-widgets/controls",
          "model_name": "DescriptionStyleModel",
          "model_module_version": "1.5.0",
          "state": {
            "_model_module": "@jupyter-widgets/controls",
            "_model_module_version": "1.5.0",
            "_model_name": "DescriptionStyleModel",
            "_view_count": null,
            "_view_module": "@jupyter-widgets/base",
            "_view_module_version": "1.2.0",
            "_view_name": "StyleView",
            "description_width": ""
          }
        }
      }
    }
  },
  "nbformat": 4,
  "nbformat_minor": 5
}
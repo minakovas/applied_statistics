{
  "cells": [
    {
      "cell_type": "code",
      "execution_count": 1,
      "id": "4d524a13-9dac-4432-9d6c-880723143f21",
      "metadata": {
        "id": "4d524a13-9dac-4432-9d6c-880723143f21"
      },
      "outputs": [],
      "source": [
        "import scipy.stats as stats\n",
        "import numpy\n",
        "import matplotlib.pyplot as pyplot\n",
        "from collections import Counter, defaultdict\n",
        "\n",
        "from scipy.stats import (\n",
        "    norm, binom, expon, t, chi2, pareto, ttest_ind, sem, beta, laplace, ttest_1samp\n",
        ")\n",
        "from statsmodels.stats.proportion import proportion_confint\n",
        "import numpy as numpy\n",
        "from seaborn import distplot\n",
        "from matplotlib import pyplot\n",
        "import seaborn\n",
        "from tqdm.notebook import tqdm\n",
        "\n",
        "import sys\n",
        "sys.path.append('.')\n",
        "\n",
        "import warnings\n",
        "warnings.filterwarnings(\"ignore\")"
      ]
    },
    {
      "cell_type": "code",
      "execution_count": 2,
      "id": "e03d6f05-f72e-43ba-abf4-803cc4eddd67",
      "metadata": {
        "id": "e03d6f05-f72e-43ba-abf4-803cc4eddd67"
      },
      "outputs": [],
      "source": [
        "def inverse_plot_colorscheme():\n",
        "    import cycler\n",
        "    def invert(color_to_convert):\n",
        "        table = str.maketrans('0123456789abcdef', 'fedcba9876543210')\n",
        "        return '#' + color_to_convert[1:].lower().translate(table).upper()\n",
        "    update_dict = {}\n",
        "    for key, value in pyplot.rcParams.items():\n",
        "        if value == 'black':\n",
        "            update_dict[key] = 'white'\n",
        "        elif value == 'white':\n",
        "            update_dict[key] = 'black'\n",
        "\n",
        "    old_cycle = pyplot.rcParams['axes.prop_cycle']\n",
        "    new_cycle = []\n",
        "    for value in old_cycle:\n",
        "        new_cycle.append({\n",
        "            'color': invert(value['color'])\n",
        "        })\n",
        "    pyplot.rcParams.update(update_dict)\n",
        "    pyplot.rcParams['axes.prop_cycle'] = cycler.Cycler(new_cycle)\n",
        "    lec = pyplot.rcParams['legend.edgecolor']\n",
        "    lec = str(1 - float(lec))\n",
        "    pyplot.rcParams['legend.edgecolor'] = lec"
      ]
    },
    {
      "cell_type": "code",
      "execution_count": 3,
      "id": "ab433bcb-709f-4f9c-bc95-d52b7e834a33",
      "metadata": {
        "id": "ab433bcb-709f-4f9c-bc95-d52b7e834a33"
      },
      "outputs": [],
      "source": [
        "inverse_plot_colorscheme()"
      ]
    },
    {
      "cell_type": "code",
      "execution_count": 16,
      "id": "c1bb4260-f23c-4888-9e73-c2ddd4d96698",
      "metadata": {
        "colab": {
          "base_uri": "https://localhost:8080/"
        },
        "id": "c1bb4260-f23c-4888-9e73-c2ddd4d96698",
        "outputId": "e42b3185-0920-4d92-d47b-2c4367690dd7"
      },
      "outputs": [
        {
          "output_type": "execute_result",
          "data": {
            "text/plain": [
              "np.float64(4.533086595762159)"
            ]
          },
          "metadata": {},
          "execution_count": 16
        }
      ],
      "source": [
        "s1 = stats.gamma(a=1.75, scale=2).rvs(1000)\n",
        "# s2 = stats.gamma(a=1.75, scale=2).rvs(1000)\n",
        "\n",
        "\n",
        "numpy.quantile(s1, 0.75)"
      ]
    },
    {
      "cell_type": "code",
      "execution_count": 12,
      "id": "28a2322b-cc1e-4dc7-a969-d16f4acba570",
      "metadata": {
        "id": "28a2322b-cc1e-4dc7-a969-d16f4acba570"
      },
      "outputs": [],
      "source": []
    },
    {
      "cell_type": "code",
      "execution_count": 20,
      "id": "a4301903-269c-4b38-b9ab-f70311e80d0b",
      "metadata": {
        "id": "a4301903-269c-4b38-b9ab-f70311e80d0b"
      },
      "outputs": [],
      "source": [
        "numpy.save('bootstrap_example_1.npy', s1)"
      ]
    },
    {
      "cell_type": "markdown",
      "id": "cc0d5f9f-9db4-4e79-ac94-003d57924ad5",
      "metadata": {
        "id": "cc0d5f9f-9db4-4e79-ac94-003d57924ad5"
      },
      "source": [
        "# Лекция X. Bootstrap\n",
        "\n",
        "На этой лекции мы рассмотрим один из главных методов статистики, который позволит вам построить критерий для любой сколь угодно сложной гипотезы, которая может у вас возникнуть на практике.\n",
        "\n",
        "Давайте рассмотрим следующую задачу:\n",
        "\n",
        "> 📈 **Задача**\n",
        ">\n",
        "> Вы работаете аналитиком в такси. Недавно один из менеджеров компании пришел к нам с идеей, что у нас в приложении часто выбирается водитель, который очень далеко от пользователя. И это приводит к оттоку пользователей нашего сервиса.\n",
        ">\n",
        "> Для того, чтобы в будущем оценить, насколько вы улучшили алгоритм подбора водителей, вы решаете использовать 75 процентиль распределения времени ожидания такси как основную метрику качества алгоритма. Ваша задача сейчас оценить текущее значение метрики, чтобы в будущем использовать это значение как бейзлайн.\n",
        "\n",
        "Запишем задачу на языке математики:\n",
        "\n",
        "- Пусть $X$ &mdash; выборка метрики времени ожидания такси пользователем, $X_{[0.75]}$ &mdash; 75 процентиль этой выборки.\n",
        "\n",
        "А теперь посмотрим на данные:"
      ]
    },
    {
      "cell_type": "code",
      "execution_count": 21,
      "id": "d9ffbbc8-45ed-4d11-979f-5e705ebade56",
      "metadata": {
        "id": "d9ffbbc8-45ed-4d11-979f-5e705ebade56"
      },
      "outputs": [],
      "source": [
        "sample = numpy.load('bootstrap_example_1.npy')"
      ]
    },
    {
      "cell_type": "code",
      "execution_count": 22,
      "id": "9dd15102-2b3a-45e9-b362-c107fd4df777",
      "metadata": {
        "colab": {
          "base_uri": "https://localhost:8080/",
          "height": 492
        },
        "id": "9dd15102-2b3a-45e9-b362-c107fd4df777",
        "outputId": "654303b0-fc57-4b74-d927-64df86ad850c"
      },
      "outputs": [
        {
          "output_type": "display_data",
          "data": {
            "text/plain": [
              "<Figure size 1000x500 with 1 Axes>"
            ],
            "image/png": "[encoded data removed]"
          },
          "metadata": {}
        }
      ],
      "source": [
        "pyplot.figure(figsize=(10, 5))\n",
        "pyplot.title('Время ожидания такси пользователями', fontsize=12)\n",
        "seaborn.histplot(sample, stat='density')\n",
        "pyplot.xlabel('Время(минуты)', fontsize=12)\n",
        "pyplot.show()"
      ]
    },
    {
      "cell_type": "code",
      "execution_count": 23,
      "id": "fac010ef-faf6-49e2-96e0-c69dc40d3357",
      "metadata": {
        "colab": {
          "base_uri": "https://localhost:8080/"
        },
        "id": "fac010ef-faf6-49e2-96e0-c69dc40d3357",
        "outputId": "fe908772-05b6-406f-b92b-8ee9bc78750f"
      },
      "outputs": [
        {
          "output_type": "stream",
          "name": "stdout",
          "text": [
            "Оценка 75 процентили: 4.533\n"
          ]
        }
      ],
      "source": [
        "print(f\"Оценка 75 процентили: {round(numpy.percentile(sample, 75), 3)}\")"
      ]
    },
    {
      "cell_type": "markdown",
      "id": "72d00f47-7478-4df4-8a38-96e460f5504f",
      "metadata": {
        "id": "72d00f47-7478-4df4-8a38-96e460f5504f"
      },
      "source": [
        "Мы получили некоторую точечную оценку. Но точечная оценка не до конца оценивает некую характеристику в генеральной совокупности. **Нужно построить для нее доверительный интервал.**\n",
        "\n",
        "Но пока мы не знаем как это сделать.\n",
        "  \n",
        "Привычный Т-тест, которым мы оцениваем среднее, не подходит, так как им мы оцениваем среднее, а у нас тут процентиль.  \n",
        "  \n",
        "Забегая вперед: **бутстрап хорош не только для процентилей. Он хорош для произвольных характеристик генеральной совокупности, которые мы можем получить по выборке**\n",
        "\n",
        "----\n",
        "\n",
        "### Идея 1: Монте-Карло\n",
        "\n",
        "Для того, чтобы решить задачу, перейдем к более простой выборке, у которой мы уже все знаем: и распределение, из которого она сгенерирована, и истинный квантиль. И на ее примере попытаемся решить задачу."
      ]
    },
    {
      "cell_type": "code",
      "execution_count": 24,
      "id": "1ac7e2c3-6bde-46ed-94e1-4671bf78160f",
      "metadata": {
        "id": "1ac7e2c3-6bde-46ed-94e1-4671bf78160f"
      },
      "outputs": [],
      "source": [
        "numpy.random.seed(42)\n",
        "N = 20000\n",
        "example_dist = stats.gamma(a=2, scale=3) # истинное распределение\n",
        "example_sample = example_dist.rvs(N)     # выборка"
      ]
    },
    {
      "cell_type": "markdown",
      "id": "37885839-da93-456a-899b-d62316225678",
      "metadata": {
        "id": "37885839-da93-456a-899b-d62316225678"
      },
      "source": [
        "- Пусть $\\theta$ &mdash; истинное значение квантили, которое мы не знаем. В общем случае это может быть любая характеристика: мат. ожидание, дисперсия и т.д.\n",
        "- $\\widehat{\\theta}$ &mdash; полученная оценка $\\theta$ по выборке. В изначальной задаче ее реализация равна 4.596.\n",
        "\n",
        "Давайте посмотрим, чему они равны в нашем искусственном примере."
      ]
    },
    {
      "cell_type": "code",
      "execution_count": 25,
      "id": "da5ca797-b1ab-411b-a616-33a50ef5ae79",
      "metadata": {
        "colab": {
          "base_uri": "https://localhost:8080/"
        },
        "id": "da5ca797-b1ab-411b-a616-33a50ef5ae79",
        "outputId": "a5cab6fe-b879-41dc-fbeb-10cbac4ae06e"
      },
      "outputs": [
        {
          "output_type": "stream",
          "name": "stdout",
          "text": [
            "theta = 8.078\n",
            "theta estim = 8.106\n"
          ]
        }
      ],
      "source": [
        "theta = example_dist.ppf(0.75)\n",
        "theta_estim = numpy.percentile(example_sample, 75)\n",
        "\n",
        "print(f\"theta = {round(theta, 3)}\")\n",
        "print(f\"theta estim = {round(theta_estim, 3)}\")"
      ]
    },
    {
      "cell_type": "markdown",
      "id": "61f521cd-8cfc-48b9-ba44-c978d54e7d02",
      "metadata": {
        "id": "61f521cd-8cfc-48b9-ba44-c978d54e7d02"
      },
      "source": [
        "Как посторить доверительный интервал для $\\theta$?\n",
        "\n",
        "1. Для этого предлагаю первым шагом построить распределение $\\Delta = \\widehat{\\theta} - \\theta$.\n",
        "    - Смысл &mdash; понять, насколько может шуметь оценка относительно истинного значения. Далее, с помощью этого распределения мы и построим дов. интервал.\n",
        "    - Пока мы будем исходить, что мы знаем $\\theta$ и истинное распределение. Но далее мы сможем избавиться от этого.\n",
        "\n",
        "Построим это распределение для нашей искусственной задачи. Давайте воспользуемся любимым методом: Монте-Карло.\n",
        "\n",
        "Мы построим выборку $\\Delta_1,\\ \\dots,\\ \\Delta_B $. Для этого:\n",
        "\n",
        "- Насемплируем `B` раз из нашего распределения `example_dist` выборку.\n",
        "    - `B` возьмем достаточно большим: например, 10000.\n",
        "    - Размер каждой выборки равен N, изначальному размеру выборки. Ведь мы хотим оценить $\\widehat{\\theta} - \\theta$, где $\\widehat{\\theta}$построена по выборке размера N. Если взять слишком большую выборку (размера бесконечность), то у вас не будет шума и $\\Delta = 0$, хотя для выборки размера $N$ шум будет.\n",
        "- Посчитаем в каждом случае $\\widehat{\\theta_i}$.\n",
        "- А дальше вычтем из этого значения $\\theta$. Получим `B` значений $\\Delta_i = \\widehat{\\theta_i} - \\theta$.\n",
        "\n",
        "Напишем функцию генерации выборки $\\widehat{\\theta_i}$. Эта функция будет основой нашего будущего алгоритма."
      ]
    },
    {
      "cell_type": "code",
      "execution_count": 27,
      "id": "1f945bd6-d519-4f19-a03b-b069b229ad36",
      "metadata": {
        "id": "1f945bd6-d519-4f19-a03b-b069b229ad36"
      },
      "outputs": [],
      "source": [
        "def get_estim_theta_sample(sample_len, gen_sample_func, theta_func, B=10000):\n",
        "    \"\"\"\n",
        "        Функция для генерации выборки theta estim.\n",
        "\n",
        "        Праметры:\n",
        "            - sample_len: какого размера выборку надо генерировать.\n",
        "                - sample_len = len(sample)\n",
        "            - gen_sample_func: генерация выборки из нашего распределения, принимающая на вход лишь размер выборки.\n",
        "                - Например, gen_sample_func = lambda N: stats.norm().rvs(N)\n",
        "            - theta_func: функция генерации оценки theta по выборке.\n",
        "                - Например, lambda sample: numpy.percentile(sample, 75)\n",
        "            - B: сколько выборок надо сгенерировать, какого размера будет массив theta estim\n",
        "        Возвращает:\n",
        "            - Массив theta_estim_array размера B\n",
        "    \"\"\"\n",
        "\n",
        "    theta_estim_array = []\n",
        "    for _ in range(B):\n",
        "        curr_sample = gen_sample_func(sample_len) # генерирует выборку\n",
        "        theta_estim = theta_func(curr_sample)     # оценивает по этой выборке Theta_estim\n",
        "        theta_estim_array.append(theta_estim)     # складывает это значение в массив\n",
        "    return theta_estim_array"
      ]
    },
    {
      "cell_type": "markdown",
      "id": "c963209b-10fe-45e5-bc97-fda4add8651c",
      "metadata": {
        "id": "c963209b-10fe-45e5-bc97-fda4add8651c"
      },
      "source": [
        "Теперь с помощью этого массива получим текущий массив $\\Delta$."
      ]
    },
    {
      "cell_type": "code",
      "execution_count": 28,
      "id": "86e70f1e-7840-4972-91c0-33d393d087a9",
      "metadata": {
        "colab": {
          "base_uri": "https://localhost:8080/",
          "height": 493
        },
        "id": "86e70f1e-7840-4972-91c0-33d393d087a9",
        "outputId": "2727dcda-991d-48ed-9c29-81b45af7d311"
      },
      "outputs": [
        {
          "output_type": "display_data",
          "data": {
            "text/plain": [
              "<Figure size 1000x500 with 1 Axes>"
            ],
            "image/png": "[encoded data removed]"
          },
          "metadata": {}
        }
      ],
      "source": [
        "gen_sample_func = lambda N: example_dist.rvs(N)           # возвращает выборку из истинного распределения\n",
        "theta_func = lambda sample: numpy.percentile(sample, 75)  # возвращает оценку Theta_estim по выборке\n",
        "\n",
        "theta_estim_array = get_estim_theta_sample(len(example_sample), gen_sample_func, theta_func, B=10000) # генерим 10 тыс. Theta_estim\n",
        "delta = theta_estim_array - theta # получаем 10 тыс. значений Delta\n",
        "\n",
        "# Рисуем распределения Delta\n",
        "pyplot.figure(figsize=(10, 5))\n",
        "pyplot.title('Гистограмма $\\Delta$', fontsize=12)\n",
        "seaborn.histplot(delta, stat='density', alpha=0.5)\n",
        "pyplot.xlabel('$\\Delta$', fontsize=12)\n",
        "pyplot.show()"
      ]
    },
    {
      "cell_type": "markdown",
      "id": "6c305e8f-0beb-4247-9670-d8907d7e118d",
      "metadata": {
        "id": "6c305e8f-0beb-4247-9670-d8907d7e118d"
      },
      "source": [
        "2. Следующим шагом рассмотрим $\\alpha/2, 1 - \\alpha/2$ квантили этого распределения: $\\Delta_{[\\alpha/2]}, \\Delta_{[1 - \\alpha/2]}$. Тогда по определению квантилей $P(\\Delta_{[\\alpha/2]} < \\widehat{\\theta} - \\theta < \\Delta_{[1 - \\alpha/2]}) = 1 - \\alpha$.\n",
        "    - В случае, когда у нас есть выборка размера B, мы можем взять оценки квантилей. Поэтому чем больше B, тем точнее получится оценка.\n",
        "3. $P(\\widehat{\\theta} - \\Delta_{[1 - \\alpha/2]} < \\theta < \\widehat{\\theta} - \\Delta_{[\\alpha/2]}) = 1 - \\alpha$.\n",
        "    - Таким образом, по определению доверительного интервала, $CI = (\\widehat{\\theta} - \\Delta_{[1 - \\alpha/2]}, \\widehat{\\theta} - \\Delta_{[\\alpha/2]})$"
      ]
    },
    {
      "cell_type": "code",
      "execution_count": 29,
      "id": "99436291-a6cd-433e-8943-08c04416f940",
      "metadata": {
        "colab": {
          "base_uri": "https://localhost:8080/"
        },
        "id": "99436291-a6cd-433e-8943-08c04416f940",
        "outputId": "a9546844-7eca-426a-ab41-22ffa4a006fe"
      },
      "outputs": [
        {
          "output_type": "stream",
          "name": "stdout",
          "text": [
            "Истинное theta: 8.08\n",
            "Полученный CI: (8.01, 8.2)\n"
          ]
        }
      ],
      "source": [
        "alpha = 0.05\n",
        "left_delta, right_delta = numpy.quantile(delta, [alpha/2, 1-alpha/2])\n",
        "\n",
        "left_bound, right_bound = theta_estim - right_delta, theta_estim - left_delta\n",
        "print(f\"Истинное theta: {round(theta, 2)}\")\n",
        "print(f\"Полученный CI: ({round(left_bound, 2)}, {round(right_bound, 2)})\")"
      ]
    },
    {
      "cell_type": "markdown",
      "id": "8fee8b89-f80a-44ff-ab67-8929af831b3a",
      "metadata": {
        "id": "8fee8b89-f80a-44ff-ab67-8929af831b3a"
      },
      "source": [
        "Мы видим, что истинное theta попало в дов. интервал.\n",
        "\n",
        "Мы построили дов. интервал с учетом знания $\\theta$ и истинного распределения выборки, но в реальности мы их не знаем. И тут приходит на помощь еще 1 хак.\n",
        "\n",
        "---\n",
        "\n",
        "### Идея 2: Эмпирическое распределение вместо истинного\n",
        "\n",
        "Чтобы построить дов. интервал, мы должны как-то получить $\\Delta_{[\\alpha/2]}, \\Delta_{[1 - \\alpha/2]}$.\n",
        "\n",
        "Вспомним, как определяется $\\Delta:\\ \\Delta = \\widehat{\\theta} - \\theta$. Для того, чтобы ее посчитать, мы использовали истинное значение $\\theta$ и истинное распределение для генерации $\\widehat{\\theta}$.\n",
        "\n",
        "**Но что если вместо истинного $\\theta$ и истинного распределения использовать их приближения?**\n",
        "\n",
        "Что здесь предлагается:\n",
        "\n",
        "- У нас есть истинное распределение `dist` и истинная характеристика $\\theta$ этого распределения.\n",
        "- Но мы их не знаем. Так давайте заменим истинное распределение на эмпирическое распределение. И тэту возьмем как характеристику этого эмпирического распределения.\n",
        "\n",
        "#### Вспомним, что такое эмпирическое распределение, и чем оно хорошо.\n",
        "\n",
        "С эмпирическим распределением мы встречались, когда строили критерии согласия и однородности Колмогорова-Смирнова. Как оно строится?\n",
        "\n",
        "0. Пусть $X_1, ..., X_n$ выборка из изначального распределения.\n",
        "1. Функция распределения эмпирического распределения равна\n",
        "\n",
        "$$\\widehat{F_n}(x) = \\frac{1}{n}\\sum_i[X_i \\leqslant x]$$\n",
        "\n",
        "2. Теперь несложно показать, что чтобы построить выборку из эмпирического распределения, мы должны насемплировать **с возвращением** из изначальной выборки новую выборку нужного нам размера.\n",
        "    - С возвращением означет, что каждый новый элемент равновероятно выбирается из всех элементов выборки, а не только из тех, что не были использованы ранее. При этом, если какой-то элемет встречается в N раз чаще другого, то в насемплированной выборке он также будет в среднем встречаться в N раз чаще.\n",
        "\n",
        "Рассмотрим на примере.\n",
        "\n",
        "- `numpy.random.choice` &mdash; [функция](https://numpy.org/doc/stable/reference/random/generated/numpy.random.choice.html), решающая на Python эту задачу."
      ]
    },
    {
      "cell_type": "code",
      "execution_count": 30,
      "id": "4d179606-c87e-4d68-a146-b3ad863408cd",
      "metadata": {
        "colab": {
          "base_uri": "https://localhost:8080/"
        },
        "id": "4d179606-c87e-4d68-a146-b3ad863408cd",
        "outputId": "48a900b5-f6a1-42f5-8dc1-06b64b98ba2d"
      },
      "outputs": [
        {
          "output_type": "execute_result",
          "data": {
            "text/plain": [
              "array([2, 2, 3, 2, 2, 4, 2, 2, 4, 4])"
            ]
          },
          "metadata": {},
          "execution_count": 30
        }
      ],
      "source": [
        "X = [2, 3, 4, 2]\n",
        "\n",
        "# Насемплируем выборку размера 10 из эмпирического распределения, полученного по выборке X\n",
        "emp_dist_X_gen = numpy.random.choice(X, replace=True, size=10)\n",
        "emp_dist_X_gen"
      ]
    },
    {
      "cell_type": "markdown",
      "id": "708bfb7d-f76a-493a-8611-9dbc44d23e3d",
      "metadata": {
        "id": "708bfb7d-f76a-493a-8611-9dbc44d23e3d"
      },
      "source": [
        "\n",
        "Чем хорошо эмпирическое распределение?\n",
        "- Тем, что у него все характеристики известны.\n",
        "- И оно сходится к истинному распределению на бесконечности (о чем мы уже говорили ранее).\n",
        "\n",
        "\n",
        "Но какая будет характеристика $\\theta$ у эмпирического распределения? Она не равна изначальной $\\theta$! А будет равна оценке $\\widehat{\\theta}$ у изначальной выборки.\n",
        "\n",
        "А значит теперь мы можем посчитать $\\Delta^*$, полученное из эмпирического распределения. Ведь для этого нам нужны были:\n",
        "- `sample_size` (не изменилось)\n",
        "- `gen_sample_func`. Вместо истинного распределения теперь мы подставляем функцию получения выборки с возвращением.\n",
        "- `theta_func` (не изменилось)\n",
        "- `B` (не изменилось)\n",
        "- `theta` поменялось на `theta_estim`\n",
        "\n",
        "Сравним код, который был, с новым кодом."
      ]
    },
    {
      "cell_type": "code",
      "execution_count": 31,
      "id": "81d86ee7-8190-4b60-9971-cf72b5fe2ae1",
      "metadata": {
        "id": "81d86ee7-8190-4b60-9971-cf72b5fe2ae1"
      },
      "outputs": [],
      "source": [
        "# Пояснения к каждой строке см. выше\n",
        "\n",
        "# Было - стало\n",
        "# gen_sample_func = lambda N: example_dist.rvs(N)\n",
        "gen_sample_func = lambda N: numpy.random.choice(example_sample, replace=True, size=N) # интересно, а какое N брать? всегда равное размеру исходной выборки? - да, см. далее\n",
        "\n",
        "# theta_func = lambda sample: numpy.percentile(sample, 75)\n",
        "theta_func = lambda sample: numpy.percentile(sample, 75) # не изменилось\n",
        "\n",
        "# theta_estim_array = get_estim_theta_sample(len(example_sample), gen_sample_func, theta_func, B=10000)\n",
        "theta_estim_asterisk_array = get_estim_theta_sample(len(example_sample), gen_sample_func, theta_func, B=10000)\n",
        "\n",
        "# delta = theta_estim_array - theta\n",
        "delta_asterisk = theta_estim_asterisk_array - theta_estim"
      ]
    },
    {
      "cell_type": "markdown",
      "source": [
        "Как мы видим, изменилась только первая функция, которая генерит i-ю выборку"
      ],
      "metadata": {
        "id": "TvnStAFqRBwe"
      },
      "id": "TvnStAFqRBwe"
    },
    {
      "cell_type": "markdown",
      "id": "1dea42b5-05db-41e2-97a5-a826ce11d322",
      "metadata": {
        "id": "1dea42b5-05db-41e2-97a5-a826ce11d322"
      },
      "source": [
        "### Главное допущение bootstrap: $\\Delta \\approx \\Delta^*$.\n",
        "- А на бесконечности это верно, потому что эмпирическое распределение равно истинному распределению.\n",
        "\n",
        "Давайте проверим это допущение на примере:"
      ]
    },
    {
      "cell_type": "code",
      "execution_count": 32,
      "id": "ebe24bad-08b5-4b16-abff-f10aa5769cc1",
      "metadata": {
        "colab": {
          "base_uri": "https://localhost:8080/",
          "height": 495
        },
        "id": "ebe24bad-08b5-4b16-abff-f10aa5769cc1",
        "outputId": "90fc7187-20fa-4a22-c38d-f2e83ed27faf"
      },
      "outputs": [
        {
          "output_type": "display_data",
          "data": {
            "text/plain": [
              "<Figure size 1000x500 with 1 Axes>"
            ],
            "image/png": "[encoded data removed]"
          },
          "metadata": {}
        }
      ],
      "source": [
        "pyplot.figure(figsize=(10, 5))\n",
        "pyplot.title('Гистограмма сравнения $\\Delta$ с $\\Delta^*$', fontsize=12)\n",
        "seaborn.histplot(delta, stat='density', alpha=0.5, label='$\\Delta$')\n",
        "seaborn.histplot(delta_asterisk, stat='density', alpha=0.5, color='lime', label='$\\Delta^*$')\n",
        "pyplot.legend(fontsize=12)\n",
        "pyplot.xlabel('$\\Delta$', fontsize=12)\n",
        "pyplot.show()"
      ]
    },
    {
      "cell_type": "markdown",
      "id": "1330de2a-5f83-4733-95c7-9e1ee70fb229",
      "metadata": {
        "id": "1330de2a-5f83-4733-95c7-9e1ee70fb229"
      },
      "source": [
        "Мы видим, что распределения похожи, хоть и не идентичны. Видно, что $\\Delta^*$ более шумная, но нетрудно убедиться, что процентили $\\Delta^*$ и $\\Delta$ будут очень похожими.  \n",
        "\n",
        "Но исходя из нашего допущения мы можем заменить\n",
        "- $CI = (\\widehat{\\theta} - \\Delta_{[1 - \\alpha/2]}, \\widehat{\\theta} - \\Delta_{[\\alpha/2]})$ на\n",
        "- $CI = (\\widehat{\\theta} - \\Delta^*_{[1 - \\alpha/2]}, \\widehat{\\theta} - \\Delta^*_{[\\alpha/2]})$\n",
        "  - Что такое $\\Delta^*_i$? Это $ \\theta^*_i - \\widehat{\\theta}$, где $\\theta^*_i$ &mdash; оценка $\\widehat{\\theta}$, полученная по i-ой выборке, сгенерированной из эмпирического распределения!\n",
        "  - Перепишем: $CI = (\\widehat{\\theta} - \\theta^*_{[1 - \\alpha/2]} + \\widehat{\\theta}, \\widehat{\\theta} - \\theta^*_{[\\alpha/2]} + \\widehat{\\theta})$\n",
        "\n",
        "\n",
        "Итого: $CI = (2\\widehat{\\theta} - \\theta^*_{[1 - \\alpha/2]}, 2\\widehat{\\theta} - \\theta^*_{[\\alpha/2]})$. Так и строится полноценный бутстрап критерий!\n",
        "\n",
        "\n",
        "**Главная проблема перехода к эмпирическому распределению:** ваше распределение не равно изначальному! Поэтому все характеристики этого распределения не равны характеристикам исходного распределения. И очень часто, забывая про это, вы можете начать использовать бутстрап неверно!"
      ]
    },
    {
      "cell_type": "code",
      "execution_count": 33,
      "id": "dfbda5b8-5a2a-4cd5-bfee-ba1721134d39",
      "metadata": {
        "colab": {
          "base_uri": "https://localhost:8080/"
        },
        "id": "dfbda5b8-5a2a-4cd5-bfee-ba1721134d39",
        "outputId": "36b5d84c-36f6-4e68-c4e5-8debacaaa74b"
      },
      "outputs": [
        {
          "output_type": "stream",
          "name": "stdout",
          "text": [
            "Истинное theta: 8.08\n",
            "Полученный CI: (8.02, 8.19)\n"
          ]
        }
      ],
      "source": [
        "alpha = 0.05\n",
        "left_theta_asterisk, right_theta_asterisk = numpy.quantile(theta_estim_asterisk_array, [alpha/2, 1-alpha/2])\n",
        "\n",
        "left_bound, right_bound = 2 * theta_estim - right_theta_asterisk, 2 * theta_estim - left_theta_asterisk\n",
        "print(f\"Истинное theta: {round(theta, 2)}\")\n",
        "print(f\"Полученный CI: ({round(left_bound, 2)}, {round(right_bound, 2)})\")"
      ]
    },
    {
      "cell_type": "markdown",
      "id": "4c4e3481-1834-4985-84f6-a406085fac5a",
      "metadata": {
        "id": "4c4e3481-1834-4985-84f6-a406085fac5a"
      },
      "source": [
        "Давайте напишем теперь полноценный код бутстрап-критерия. Что мы сделали по шагам:\n",
        "\n",
        "1. Считаем $\\widehat{\\theta}$ по изначальной выборке.\n",
        "2. Написали генерацию выборок из эмпирического распределения: `lambda N: numpy.random.choice(example_sample, replace=True, size=N)`.\n",
        "3. Написали функцию генерации $\\theta^*$ (использовав логику Монте-Карло).\n",
        "    - Выборки, которые будут сгенерированны внутри этого шага в цикле с помощью шага 1, называются **бутстрап**-выборками.\n",
        "4. Считаем левый и правый квантили $\\theta^*_{[\\alpha/2]}, \\theta^*_{[1 - \\alpha/2]}$.\n",
        "5. Считаем $CI = (2\\widehat{\\theta} - \\theta^*_{[1 - \\alpha/2]}, 2\\widehat{\\theta} - \\theta^*_{[\\alpha/2]})$."
      ]
    },
    {
      "cell_type": "markdown",
      "source": [
        "Почему $2\\widehat{\\theta}$ - раскрыли формулу $\\Delta:\\ \\Delta = \\widehat{\\theta} - \\theta$"
      ],
      "metadata": {
        "id": "U6WNLsypR2qZ"
      },
      "id": "U6WNLsypR2qZ"
    },
    {
      "cell_type": "code",
      "execution_count": null,
      "id": "c99ca62a-0141-43b2-9d89-dc47d6e48db6",
      "metadata": {
        "id": "c99ca62a-0141-43b2-9d89-dc47d6e48db6"
      },
      "outputs": [],
      "source": [
        "def raw_bootstrap(sample, theta_func, alpha = 0.05):\n",
        "    B = 10000\n",
        "\n",
        "    theta_estim = theta_func(sample)\n",
        "    gen_sample_func = lambda N: numpy.random.choice(sample, replace=True, size=N)\n",
        "\n",
        "    theta_estim_asterisk_array = get_estim_theta_sample(len(example_sample), gen_sample_func, theta_func, B)\n",
        "    left_theta_asterisk, right_theta_asterisk = numpy.quantile(theta_estim_asterisk_array, [alpha/2, 1-alpha/2])\n",
        "    left_bound, right_bound = 2 * theta_estim - right_theta_asterisk, 2 * theta_estim - left_theta_asterisk\n",
        "\n",
        "    return left_bound, right_bound"
      ]
    },
    {
      "cell_type": "markdown",
      "id": "778343a1-c98d-4c55-9d43-ca3316211d81",
      "metadata": {
        "id": "778343a1-c98d-4c55-9d43-ca3316211d81"
      },
      "source": [
        "Проверим работоспособность:"
      ]
    },
    {
      "cell_type": "code",
      "execution_count": null,
      "id": "24fccb96-991d-45e5-99df-89bc7024f66c",
      "metadata": {
        "id": "24fccb96-991d-45e5-99df-89bc7024f66c",
        "outputId": "196a6181-dddf-4069-88ee-dfd0cfaed2f0"
      },
      "outputs": [
        {
          "data": {
            "text/plain": [
              "(8.020543156899208, 8.194299412190123)"
            ]
          },
          "execution_count": 19,
          "metadata": {},
          "output_type": "execute_result"
        }
      ],
      "source": [
        "numpy.random.seed(42)\n",
        "N = 20000\n",
        "example_dist = stats.gamma(a=2, scale=3)\n",
        "example_sample = example_dist.rvs(N)\n",
        "\n",
        "theta_func = lambda sample: numpy.percentile(sample, 75)\n",
        "raw_bootstrap(example_sample, theta_func, alpha = 0.05)"
      ]
    },
    {
      "cell_type": "markdown",
      "source": [
        "Да, все отлично!\n"
      ],
      "metadata": {
        "id": "o5stSLDJT0AN"
      },
      "id": "o5stSLDJT0AN"
    },
    {
      "cell_type": "markdown",
      "source": [
        "\n",
        " ## Почему генерим бутстрап выборки именно такого же размера, как исходная?  \n",
        "Чем больше выборка, которую мы сэмплируем, тем меньше портится некоторая характеристика (следует из З.Б.Ч). Следовательно, выборка, которую мы тут сэмплируем, должна быть такого же размера, как и изначальная, чтобы она качественно характеризовала то, насколько именно портится характеристика при сэмплировании."
      ],
      "metadata": {
        "id": "vouzwlF4TsPZ"
      },
      "id": "vouzwlF4TsPZ"
    },
    {
      "cell_type": "markdown",
      "id": "10b9ccc2-e0ee-4905-b649-709f6176cb85",
      "metadata": {
        "id": "10b9ccc2-e0ee-4905-b649-709f6176cb85"
      },
      "source": [
        "\n",
        "## Более простой алгоритм бутстрапа\n",
        "\n",
        "Давайте чуть упростим шаги:\n",
        "\n",
        "1. Считаем $\\widehat{\\theta}$ по изначальной выборке.\n",
        "2. В цикле размера `B`:\n",
        "    1. Генерируем выборку с возвращением из изначальной выборки. Размер `N` &mdash; изначальный размер выборки. Эта выборка называется **бутстрап-выборкой**.\n",
        "    2. Считаем по этой выборке $\\theta^*_i$ точно так же, как считаем $\\widehat{\\theta}$ по изначальной выборке.\n",
        "3. Сохраняем $\\theta^*_1,\\ ...,\\ \\theta^*_B$ в массив. Этот массив для нас как раз характеризует, как выглядит оценка $\\theta$ после того, как мы $\\widehat{\\theta}$ ещё дополнительно испортили функцией шум ($\\Delta$). Это распределение называется **бутстрап-распределением**. Т.е. по сути массив, который мы тут получили - это выборка из бутстрап-распределения\n",
        "4. Строим доверительный интервал:\n",
        "  1. Считаем левый и правый квантили $\\theta^*_{[\\alpha/2]}, \\theta^*_{[1 - \\alpha/2]}$.\n",
        "  2. Считаем $CI = (2\\widehat{\\theta} - \\theta^*_{[1 - \\alpha/2]}, 2\\widehat{\\theta} - \\theta^*_{[\\alpha/2]})$.\n",
        "  \n",
        "(раскрыли формулу $\\Delta:\\ \\Delta = \\widehat{\\theta} - \\theta$)"
      ]
    },
    {
      "cell_type": "code",
      "execution_count": 35,
      "id": "f49a8539-6ced-4e59-8948-bc96c931b2a0",
      "metadata": {
        "id": "f49a8539-6ced-4e59-8948-bc96c931b2a0"
      },
      "outputs": [],
      "source": [
        "def bootstrap_ci(sample, theta_func, alpha=0.05, B=2000):\n",
        "    \"\"\"\n",
        "        Функция для построения доверительного интервала через бутстрап\n",
        "\n",
        "        Параметры:\n",
        "            - sample: изначальная выборка\n",
        "            - theta_func: функция генерации оценки theta по выборке.\n",
        "                - Например, lambda sample: numpy.percentile(sample, 75)\n",
        "            - alpha: уровень значимости критерия. Доверительный интервал будет ширины 1-alpha.\n",
        "        Возвращает:\n",
        "            - левую и правую границы дов. интервала.\n",
        "    \"\"\"\n",
        "\n",
        "    N = len(sample)\n",
        "    theta_estim = theta_func(sample)\n",
        "\n",
        "    theta_asterisk_array = []\n",
        "    for _ in range(B):\n",
        "        bootstrap_sample = numpy.random.choice(sample, replace=True, size=N)\n",
        "        theta_asterisk = theta_func(bootstrap_sample)\n",
        "        theta_asterisk_array.append(theta_asterisk)\n",
        "    left_theta_asterisk, right_theta_asterisk = numpy.quantile(theta_asterisk_array, [alpha/2, 1-alpha/2])\n",
        "    left_bound, right_bound = 2 * theta_estim - right_theta_asterisk, 2 * theta_estim - left_theta_asterisk\n",
        "\n",
        "    return left_bound, right_bound"
      ]
    },
    {
      "cell_type": "code",
      "execution_count": 40,
      "id": "b10aa04e-4bb4-4394-8d04-132c0191fc16",
      "metadata": {
        "colab": {
          "base_uri": "https://localhost:8080/"
        },
        "id": "b10aa04e-4bb4-4394-8d04-132c0191fc16",
        "outputId": "ec9fa9ed-e2cd-4d57-c3ab-a67b4f3d20e5"
      },
      "outputs": [
        {
          "output_type": "stream",
          "name": "stdout",
          "text": [
            "CPU times: user 2.55 s, sys: 410 µs, total: 2.55 s\n",
            "Wall time: 3.94 s\n"
          ]
        },
        {
          "output_type": "execute_result",
          "data": {
            "text/plain": [
              "(np.float64(4.28420747502158), np.float64(4.791965069130439))"
            ]
          },
          "metadata": {},
          "execution_count": 40
        }
      ],
      "source": [
        "%%time\n",
        "theta_func = lambda sample: numpy.percentile(sample, 75)\n",
        "bootstrap_ci(sample, theta_func, alpha=0.05, B=10000)"
      ]
    },
    {
      "cell_type": "markdown",
      "source": [
        "Вспомним, какаябыла точечная оценка:"
      ],
      "metadata": {
        "id": "zAjVC5fIVy_k"
      },
      "id": "zAjVC5fIVy_k"
    },
    {
      "cell_type": "code",
      "source": [
        "numpy.percentile(sample, 75)"
      ],
      "metadata": {
        "colab": {
          "base_uri": "https://localhost:8080/"
        },
        "id": "5Xk7aOYAV2oo",
        "outputId": "b9f3e3e0-93aa-401c-8608-b8a57d172b6b"
      },
      "id": "5Xk7aOYAV2oo",
      "execution_count": 37,
      "outputs": [
        {
          "output_type": "execute_result",
          "data": {
            "text/plain": [
              "np.float64(4.533086595762159)"
            ]
          },
          "metadata": {},
          "execution_count": 37
        }
      ]
    },
    {
      "cell_type": "markdown",
      "id": "c947c008-d5ce-4b65-a9ab-14595b019c21",
      "metadata": {
        "id": "c947c008-d5ce-4b65-a9ab-14595b019c21"
      },
      "source": [
        "Код рабочий, но у него есть минус: он очень долгий. Поэтому, чтобы ускорить работу, давайте генерировать не 1, а сразу `batch_size` выборок, чтобы ускорить работу.\n",
        "\n",
        "При этом, придется переписать функцию `theta_func`, чтобы она работала с массивом."
      ]
    },
    {
      "cell_type": "code",
      "execution_count": 42,
      "id": "5ec92bff-dd3c-4d5b-b20d-386456750089",
      "metadata": {
        "id": "5ec92bff-dd3c-4d5b-b20d-386456750089"
      },
      "outputs": [],
      "source": [
        "theta_func = lambda sample: numpy.percentile(sample, 75, axis=1)\n",
        "\n",
        "def fast_bootstrap_ci(sample, theta_func, alpha=0.05, B=2000):\n",
        "    \"\"\"\n",
        "        Функция для построения доверительного интервала через бутстрап\n",
        "\n",
        "        Параметры:\n",
        "            - sample: изначальная выборка\n",
        "            - theta_func: функция генерации оценки theta по выборке.\n",
        "                - Например, lambda sample: numpy.percentile(sample, 75)\n",
        "            - alpha: уровень значимости критерия. Доверительный интервал будет ширины 1-alpha.\n",
        "        Возвращает:\n",
        "            - левую и правую границы дов. интервала.\n",
        "    \"\"\"\n",
        "    batch_size = B // 20\n",
        "    N = len(sample)\n",
        "    # Добавляем размерность к выборке, чтобы работать с массивом массивов.\n",
        "    theta_estim = theta_func(numpy.expand_dims(sample, axis=0)).ravel()\n",
        "    assert len(theta_estim) == 1\n",
        "    theta_estim = theta_estim[0]\n",
        "\n",
        "    theta_asterisk_array = []\n",
        "    for _ in range(0, B, batch_size):\n",
        "        # Генерируем сразу batch_size выборок\n",
        "        bootstrap_sample = numpy.random.choice(sample, replace=True, size=(batch_size, N))\n",
        "        theta_asterisk = theta_func(bootstrap_sample).ravel()\n",
        "        assert len(theta_asterisk) == batch_size\n",
        "        theta_asterisk_array = numpy.concatenate([theta_asterisk_array, theta_asterisk])\n",
        "    left_theta_asterisk, right_theta_asterisk = numpy.quantile(theta_asterisk_array, [alpha/2, 1-alpha/2])\n",
        "    left_bound, right_bound = 2 * theta_estim - right_theta_asterisk, 2 * theta_estim - left_theta_asterisk\n",
        "\n",
        "    return left_bound, right_bound"
      ]
    },
    {
      "cell_type": "code",
      "execution_count": 43,
      "id": "32f610b6-d72e-4186-81f6-880fb6be547c",
      "metadata": {
        "colab": {
          "base_uri": "https://localhost:8080/"
        },
        "id": "32f610b6-d72e-4186-81f6-880fb6be547c",
        "outputId": "9805eebd-04b2-4386-de85-4ef7362002f5"
      },
      "outputs": [
        {
          "output_type": "stream",
          "name": "stdout",
          "text": [
            "CPU times: user 281 ms, sys: 11.6 ms, total: 293 ms\n",
            "Wall time: 293 ms\n"
          ]
        },
        {
          "output_type": "execute_result",
          "data": {
            "text/plain": [
              "(np.float64(4.285511204383765), np.float64(4.79740590749169))"
            ]
          },
          "metadata": {},
          "execution_count": 43
        }
      ],
      "source": [
        "%%time\n",
        "theta_func = lambda sample: numpy.percentile(sample, 75, axis=1)\n",
        "fast_bootstrap_ci(sample, theta_func, alpha=0.05, B=10000)"
      ]
    },
    {
      "cell_type": "markdown",
      "id": "dbcc6ccc-eef7-4e6a-8125-2b6f23bdf78c",
      "metadata": {
        "id": "dbcc6ccc-eef7-4e6a-8125-2b6f23bdf78c"
      },
      "source": [
        "Результат не изменился, но время работы сократилось в 6 раз!"
      ]
    },
    {
      "cell_type": "markdown",
      "id": "d4cd260b-84a6-4e95-be0f-cc41c362076b",
      "metadata": {
        "id": "d4cd260b-84a6-4e95-be0f-cc41c362076b"
      },
      "source": [
        "А теперь самое время проверить наш бутстрап критерий! И снова с помощью Монте-Карло."
      ]
    },
    {
      "cell_type": "code",
      "execution_count": 44,
      "id": "0f3eaaa7-f8cc-48de-9c90-b1f4c8de8a75",
      "metadata": {
        "colab": {
          "base_uri": "https://localhost:8080/",
          "height": 82,
          "referenced_widgets": [
            "511a92ca6fc4451fa8634d7f00db83a7",
            "862b7e8de710458bbd387cc2f6dff3a6",
            "7af5aa87c8d1402a9b469a56be1d5be9",
            "f1fbf4cb89974f7abb5f31244fea362a",
            "ec5d7db7e0384bf2b64f6ac39b61d7b5",
            "82172103b3ed42f782f95aae792c721b",
            "b5e6fdd08fef463499b1f6514008b40c",
            "694e227e95e642f282112b6252c08ac8",
            "ba051c9621374908bc0aa2d102a5a0a1",
            "e30d7ee088f74d5d83b5f4f645eb7a9f",
            "dd5db0806f704da9b1541ac6b0b25097"
          ]
        },
        "id": "0f3eaaa7-f8cc-48de-9c90-b1f4c8de8a75",
        "outputId": "67be2736-ca9c-4f7f-a84e-b85d533d9f91"
      },
      "outputs": [
        {
          "output_type": "display_data",
          "data": {
            "text/plain": [
              "  0%|          | 0/1000 [00:00<?, ?it/s]"
            ],
            "application/vnd.jupyter.widget-view+json": {
              "version_major": 2,
              "version_minor": 0,
              "model_id": "511a92ca6fc4451fa8634d7f00db83a7"
            }
          },
          "metadata": {}
        },
        {
          "output_type": "stream",
          "name": "stdout",
          "text": [
            "FPR: 0.056\n",
            "CI=(0.043374813385441996, 0.07202334814973096)\n"
          ]
        }
      ],
      "source": [
        "numpy.random.seed(42)\n",
        "\n",
        "bad_cnt = 0\n",
        "MC_size = 1000\n",
        "N = 5000\n",
        "alpha=0.05\n",
        "theta = example_dist.ppf(0.75) # истинное значение\n",
        "theta_func = lambda sample: numpy.percentile(sample, 75, axis=1)\n",
        "\n",
        "\n",
        "for i in tqdm(range(MC_size)):\n",
        "    # Генерирую выборку теста и контроля\n",
        "    ex_sample = example_dist.rvs(N)\n",
        "\n",
        "    left, right = fast_bootstrap_ci(ex_sample, theta_func, alpha=0.05) # получаем доверительный интервал\n",
        "\n",
        "    bad_cnt += 1 - (left < theta < right) # проверяем, что истинное значение лежит в доверительном интервале\n",
        "\n",
        "\n",
        "print(f\"FPR: {round(bad_cnt / MC_size, 4)}\")\n",
        "print(f\"CI={proportion_confint(count = bad_cnt, nobs = MC_size, alpha=0.05, method='wilson')}\")"
      ]
    },
    {
      "cell_type": "markdown",
      "id": "8fa85caa-e455-4d7f-bc7a-cb391320c42b",
      "metadata": {
        "id": "8fa85caa-e455-4d7f-bc7a-cb391320c42b"
      },
      "source": [
        "Видим, что критерий работает валидно (хоть и очень долго), поэтому теперь самое время решить изначальную задачу!"
      ]
    },
    {
      "cell_type": "code",
      "execution_count": null,
      "id": "b38444a7-e3de-4fda-aff4-371d6b2ae1d8",
      "metadata": {
        "id": "b38444a7-e3de-4fda-aff4-371d6b2ae1d8",
        "outputId": "5fd40f21-755d-4e7e-9acf-fe9eae02a175"
      },
      "outputs": [
        {
          "data": {
            "text/plain": [
              "(4.392414326845837, 4.864705982389839)"
            ]
          },
          "execution_count": 42,
          "metadata": {},
          "output_type": "execute_result"
        }
      ],
      "source": [
        "sample = numpy.load('bootstrap_example_1.npy')\n",
        "fast_bootstrap_ci(sample, theta_func, alpha=0.05)"
      ]
    },
    {
      "cell_type": "markdown",
      "id": "2a6ccb52-f818-4ea7-85ea-b4ade75b4979",
      "metadata": {
        "id": "2a6ccb52-f818-4ea7-85ea-b4ade75b4979"
      },
      "source": [
        "Да, отлично! Мы смогли посчитать доверительный интервал."
      ]
    },
    {
      "cell_type": "markdown",
      "id": "b69aa578-1cee-44c7-85a3-1e3badb1b632",
      "metadata": {
        "id": "b69aa578-1cee-44c7-85a3-1e3badb1b632"
      },
      "source": [
        "### Промежуточные итоги про бутстрап\n",
        "\n",
        "Бутстрап &mdash; способ построения доверительного интервала для любой характеристики распределения, состоящий из 2 эвристик:\n",
        "- Замены истинного распределения на эмпирическое\n",
        "- Генерация итоговой выборки $\\theta^*$ с помощью Монте-Карло, чтобы корректно оценить квантили распределения.\n",
        "\n",
        "Это универсальный способ посчитать доверительный интервал для любых нетривиальных характеристик и любых распределений. И часто может пригодиться в работе, поэтому вы обязательно должны помнить про него.\n",
        "\n",
        "----\n",
        "\n",
        "## Основные вопросы про бутстрап:\n",
        "\n",
        "1. Когда бутстрап работает?\n",
        "    - Когда выборки достаточно большие. Обе эвристики, из которых состоит бустрап, работают если:\n",
        "        - $N$ достаточно большое. Тогда эмпирическое распределение лучше приближается к истинному и мы точнее оцениваем $\\Delta^*$.\n",
        "        - $B$ достаточно большое. Так мы точнее построим квантили распределения $\\Delta^*$.\n",
        "        - Первым параметром мы не всегда можем управлять, а вторым всегда.\n",
        "2. Можно ли генерировать бутстрап-выборки другого размера, нежели $N$?\n",
        "    - Нет, нельзя. Это следует из шага Монте-Карло, где мы пытаемся оценить $\\widehat{\\theta} - \\theta$, а $\\widehat{\\theta}$ построена по выборке размера N.\n",
        "3. Какого размера строит брать `B`?\n",
        "    - Рекомендация: `B = 10000`.\n",
        "    - Можно ли брать меньшего размера? Да, но надо проверять корректность с помощью Монте-Карло. Например, как мы сделали в примере выше.\n"
      ]
    },
    {
      "cell_type": "markdown",
      "id": "f99d0ba1-2027-4798-a634-e351fa14eeea",
      "metadata": {
        "id": "f99d0ba1-2027-4798-a634-e351fa14eeea"
      },
      "source": [
        "  \n",
        "### Двуxвыборочный бутстрап\n",
        "\n",
        "Как с помощью бутстрапа построить доверительный интервал для разницы характеристик 2 распределений? Например, для разницы медиан в тесте и в контроле? Для этого надо повторить все те же шаги, что и для одновыборочного бутстрапа, но с модификацией: генерировать не 1, а 2 выборки сразу.\n",
        "\n",
        "Пусть у вас есть выборка $X,\\ Y$ размера $N, M$ соотвественно. Тогда:\n",
        "\n",
        "1. Считаем $\\widehat{\\theta_X}, \\widehat{\\theta_Y}$ по изначальной выборке. Считаем разницу между ними $\\widehat{\\theta} = \\widehat{\\theta_X} - \\widehat{\\theta_Y}$.\n",
        "2. В цикле размера `B`:\n",
        "  1. Генерируем из выборок `X` и `Y` новые выборки с возвращением размера `N` и `M` соответственно.\n",
        "  2. Считаем по этим выборкам $\\theta^*_{X, i},\\ \\theta^*_{Y, i}$. $\\theta^*_{i} = \\theta^*_{X, i} - \\theta^*_{Y, i}$\n",
        "3. Сохраняем $\\theta^*_1,\\ ...,\\ \\theta^*_B$ в массив.\n",
        "4. Строим доверительный интервал по формуле выше.\n",
        "\n",
        "Profit!\n",
        "    \n",
        "    \n",
        "-----\n"
      ]
    },
    {
      "cell_type": "markdown",
      "id": "0fa57875-f293-4343-a499-84824a98d2bf",
      "metadata": {
        "id": "0fa57875-f293-4343-a499-84824a98d2bf"
      },
      "source": [
        "\n",
        "## Виды доверительных интервалов в бутстрапе\n",
        "\n",
        "У бутстрапа есть 3 вида доверительных интервалов.\n",
        "\n",
        "1. Центральный: $CI = (2\\widehat{\\theta} - \\theta^*_{[1 - \\alpha/2]}, 2\\widehat{\\theta} - \\theta^*_{[\\alpha/2]})$. Его мы уже рассмотрели.\n",
        "2. Нормальный: $CI = (\\widehat{\\theta} \\pm z_{1-\\alpha/2}\\cdot \\sqrt{S^2_{\\theta^*}})$\n",
        "    - Если статистика $\\widehat{\\theta}$ распределена нормально (что на практике практически всегда так), то мы можем посчитать по выборке $\\theta^*$ стандартное отклонение $\\sqrt{S^2_{\\theta^*}}$. мы делаем предположение, что $\\sqrt{S^2_{\\theta^*}} \\approx \\sqrt{S^2_{\\widehat{\\theta}}}$ . Тогда центр распределения $\\theta$ будет лежать в данном дов. интервале.\n",
        "    \n",
        "3. Процентильный: $CI = (\\theta^*_{[\\alpha/2]}, \\theta^*_{[1 - \\alpha/2]})$\n",
        "    - Теоретически он работает, если существует некоторая монотонная функция $F$, такая, что $\\hat U = F(\\hat\\theta(X_i))$ и $\\hat U \\sim \\mathcal{N}(\\varphi, c^2)$, где $\\varphi = F(\\theta)$. Где $X$ &mdash; выборка, $ U$ &mdash; одно наблюдение случайной величины $\\hat U$.\n",
        "    - Док-во:\n",
        "        - Пусть $U^\\ast_i = F(\\theta^*_i)$, а $u^*_{[\\beta]}$ &mdash; оценка $\\beta$-квантили распределения $U^*$. Тогда по свойству монотонности $F: u^*_{[\\beta]} = F(\\theta^*_{[\\beta]})$.\n",
        "        - Оценки для квантилей случайной величины $\\hat U$ (помним, что $U$ &mdash; одно ее наблюдение) равны:\n",
        "            - $\\widehat{u_{[\\alpha/2]}} = U - z_{1 - \\alpha/2}c$\n",
        "            - $\\widehat{u_{[1-\\alpha/2]}} = U + z_{1 - \\alpha/2}c$.\n",
        "        - Предположение бутстрапа: $u^*_{[\\beta]} \\approx \\widehat{u_{[\\beta]}}$.\n",
        "        - $$\\begin{align}\n",
        "            P(\\theta^*_{[\\alpha/2]} < \\theta < \\theta^*_{[1 - \\alpha/2]}) &=  P(F(\\theta^*_{[\\alpha/2]}) < F(\\theta) < F(\\theta^*_{[1 - \\alpha/2]})) \\\\\n",
        "            &= P(u^*_{[\\alpha/2]} < \\varphi < u^*_{[1 - \\alpha/2]})) \\\\\n",
        "            &\\approx P(\\widehat{u_{\\alpha/2}} < \\phi < \\widehat{u_{1 - \\alpha/2}} )) \\\\\n",
        "            &= P(U - cz_{1 - \\alpha/2} < \\varphi < U + cz_{1 - \\alpha/2})) \\\\\n",
        "            &= P(- z_{1 - \\alpha/2} < \\dfrac{U - \\varphi}{c} < z_{1 - \\alpha/2}) \\\\\n",
        "            &= 1 - \\alpha\n",
        "        \\end{align}\n",
        "        $$\n",
        "     - **На практике интервал работает практически всегда.**\n",
        "    \n",
        "### Сравнение интервалов\n",
        "\n",
        "Посмотрим на практике, насколько похожие значения они дают."
      ]
    },
    {
      "cell_type": "code",
      "execution_count": null,
      "id": "ba1da154-aa12-418f-95a5-20d08b57a065",
      "metadata": {
        "id": "ba1da154-aa12-418f-95a5-20d08b57a065"
      },
      "outputs": [],
      "source": [
        "def fast_bootstrap_ci(sample, theta_func, alpha=0.05):\n",
        "\n",
        "    B = 1000 # Чтобы ускорить работу\n",
        "    batch_size = B // 20\n",
        "    N = len(sample)\n",
        "\n",
        "    # Добавляем размерность к выборке, чтобы работать с массивом массивов.\n",
        "    theta_estim = theta_func(numpy.expand_dims(sample, axis=0)).ravel()\n",
        "    assert len(theta_estim) == 1\n",
        "    theta_estim = theta_estim[0]\n",
        "\n",
        "    theta_asterisk_array = []\n",
        "    for _ in range(0, B, batch_size):\n",
        "        # Генерируем сразу batch_size выборок\n",
        "        bootstrap_sample = numpy.random.choice(sample, replace=True, size=(batch_size, N))\n",
        "        theta_asterisk = theta_func(bootstrap_sample).ravel()\n",
        "        assert len(theta_asterisk) == batch_size\n",
        "        theta_asterisk_array = numpy.concatenate([theta_asterisk_array, theta_asterisk])\n",
        "    left_theta_asterisk, right_theta_asterisk = numpy.quantile(theta_asterisk_array, [alpha/2, 1-alpha/2])\n",
        "    std = numpy.std(theta_asterisk_array)\n",
        "\n",
        "\n",
        "    central_left_bound, central_right_bound = 2 * theta_estim - right_theta_asterisk, 2 * theta_estim - left_theta_asterisk\n",
        "    percentile_left_bound, percentile_right_bound = left_theta_asterisk, right_theta_asterisk\n",
        "    norm_left_bound, norm_right_bound = theta_estim - norm().ppf(1-alpha/2) * std, theta_estim + norm().ppf(1-alpha/2) * std\n",
        "\n",
        "    return {\n",
        "        'central bootstrap': (central_left_bound, central_right_bound),\n",
        "        'percentile bootstrap': (percentile_left_bound, percentile_right_bound),\n",
        "        'norm bootstrap': (norm_left_bound, norm_right_bound)\n",
        "    }"
      ]
    },
    {
      "cell_type": "markdown",
      "id": "84317443-7343-4200-87d7-20fd9f728c6a",
      "metadata": {
        "id": "84317443-7343-4200-87d7-20fd9f728c6a"
      },
      "source": [
        "Проверим, насколько корректны дов. интервалы через Монте-Карло. FPR будет отражать, в скольких процентах случаев истинное $\\theta$ не попал в доверительный интервал."
      ]
    },
    {
      "cell_type": "code",
      "execution_count": 45,
      "id": "21fd2672-49c5-4536-82e9-63c605307cfb",
      "metadata": {
        "id": "21fd2672-49c5-4536-82e9-63c605307cfb"
      },
      "outputs": [],
      "source": [
        "def mc_result_dict_creator(bad_cnt, MC_size):\n",
        "    # Создает словарь, в котором значения по умолчанию инициализируются словарем\n",
        "    mc_result = defaultdict(dict)\n",
        "    for method in bad_cnt:\n",
        "        fpr = bad_cnt[method] / MC_size\n",
        "        left_fpr, right_fpr = proportion_confint(count = bad_cnt[method], nobs = MC_size, alpha=0.05, method='wilson')\n",
        "        mc_result[method]['FPR'] = fpr\n",
        "        mc_result[method]['FPR, left_bound'] = left_fpr\n",
        "        mc_result[method]['FPR, right_bound'] = right_fpr\n",
        "    return mc_result\n",
        "\n",
        "def mc_bootstrap_checker(N, example_dist, theta, theta_func, alpha=0.05, MC_size = 1000):\n",
        "    numpy.random.seed(42)\n",
        "\n",
        "    # Создает словарь, в котором значения по умолчанию инициализируются 0\n",
        "    bad_cnt = defaultdict(lambda: 0)\n",
        "    for i in range(MC_size):\n",
        "        ex_sample = example_dist.rvs(N)\n",
        "\n",
        "        curr_res = fast_bootstrap_ci(ex_sample, theta_func, alpha=alpha)\n",
        "\n",
        "        for ci_type in curr_res:\n",
        "            left, right = curr_res[ci_type]\n",
        "            bad_cnt[ci_type] += 1 - (left < theta < right)\n",
        "\n",
        "    return mc_result_dict_creator(bad_cnt, MC_size)\n"
      ]
    },
    {
      "cell_type": "code",
      "execution_count": null,
      "id": "d15a04b0-9abb-446b-b93f-e02c362a18c5",
      "metadata": {
        "colab": {
          "referenced_widgets": [
            "5ae714b44624428eb2dc224ed4837543"
          ]
        },
        "id": "d15a04b0-9abb-446b-b93f-e02c362a18c5",
        "outputId": "8fb93a1b-1f70-4993-d989-5f33b492b131"
      },
      "outputs": [
        {
          "data": {
            "application/vnd.jupyter.widget-view+json": {
              "model_id": "5ae714b44624428eb2dc224ed4837543",
              "version_major": 2,
              "version_minor": 0
            },
            "text/plain": [
              "  0%|          | 0/6 [00:00<?, ?it/s]"
            ]
          },
          "metadata": {},
          "output_type": "display_data"
        }
      ],
      "source": [
        "N_to_check = [50, 100, 500, 1000, 2000, 5000]\n",
        "\n",
        "example_dist = stats.expon(scale=5)\n",
        "theta = example_dist.ppf(0.5)\n",
        "theta_func = lambda sample: numpy.percentile(sample, 50, axis=1)\n",
        "\n",
        "final_results = {}\n",
        "for N in tqdm(N_to_check):\n",
        "    final_results[N] = mc_bootstrap_checker(N, example_dist, theta, theta_func, alpha=0.05, MC_size = 1000)"
      ]
    },
    {
      "cell_type": "code",
      "execution_count": null,
      "id": "ab89f17a-2b52-4b9b-81fa-6a71b2ab9966",
      "metadata": {
        "id": "ab89f17a-2b52-4b9b-81fa-6a71b2ab9966"
      },
      "outputs": [],
      "source": [
        "def show_FPR(result_dict, methods, colors):\n",
        "    pyplot.figure(figsize=(18.5, 8))\n",
        "    pyplot.title('Зависимость FPR от размера выборки для разных методов', fontsize=15)\n",
        "    N_array = list(result_dict.keys())\n",
        "    x_ticks = numpy.arange(0, len(N_array))\n",
        "\n",
        "    pyplot.hlines(0.05, x_ticks[0], x_ticks[-1],\n",
        "                   color='red', linestyle='-', label=\"$\\\\alpha$\")\n",
        "    for method, color in zip(methods, colors):\n",
        "        FPR = []\n",
        "        left_bound = []\n",
        "        right_bound = []\n",
        "        for N in result_dict:\n",
        "            curr_dict = result_dict[N][method]\n",
        "            FPR.append(curr_dict['FPR'])\n",
        "            left_bound.append(curr_dict['FPR, left_bound'])\n",
        "            right_bound.append(curr_dict['FPR, right_bound'])\n",
        "\n",
        "        pyplot.plot(x_ticks, FPR, color=color, label=method)\n",
        "        pyplot.fill_between(x_ticks, left_bound, right_bound,\n",
        "                   color=color, alpha=0.2)\n",
        "\n",
        "    pyplot.legend(fontsize=15)\n",
        "    pyplot.xticks(x_ticks, N_array)\n",
        "    pyplot.xlabel('N', fontsize=15)\n",
        "    pyplot.ylabel('FPR', fontsize=15)\n",
        "    pyplot.grid(linewidth=0.2)\n",
        "\n",
        "    pyplot.show()"
      ]
    },
    {
      "cell_type": "code",
      "execution_count": null,
      "id": "724e2818-3e58-4133-a7a5-7586904384b2",
      "metadata": {
        "id": "724e2818-3e58-4133-a7a5-7586904384b2",
        "outputId": "4395a7c1-510c-4978-bb5e-36ec2770c77b"
      },
      "outputs": [
        {
          "data": {
            "image/png": "[encoded data removed]",
            "text/plain": [
              "<Figure size 1332x576 with 1 Axes>"
            ]
          },
          "metadata": {
            "needs_background": "dark"
          },
          "output_type": "display_data"
        }
      ],
      "source": [
        "colors = ['lime', 'white', 'blue']\n",
        "methods = ['central bootstrap', 'percentile bootstrap', 'norm bootstrap']\n",
        "show_FPR(final_results, methods, colors)"
      ]
    },
    {
      "cell_type": "markdown",
      "id": "763cd6de-e63d-477c-ac8e-2aca96db3581",
      "metadata": {
        "id": "763cd6de-e63d-477c-ac8e-2aca96db3581"
      },
      "source": [
        "Мы получили несколько интересных выводов:\n",
        "1) На 5000 все доверительные интервалы получились корректными: FPR везде равен 5% с учетом шума.\n",
        "2) Удивительно, но центральный интервал сходится намного дольше, чем оставшиеся 2 вида интервалов. Поэтому, несмотря на то, что доказательная база у процентильного бутстрапа хуже, рекомендуют использовать именно его.\n",
        "    \n",
        "----\n",
        "\n",
        "Давайте также посмотрим, насколько похожи доверительные интервалы на больших выборках:"
      ]
    },
    {
      "cell_type": "code",
      "execution_count": null,
      "id": "902ca869-790a-4432-b227-a978ed243776",
      "metadata": {
        "id": "902ca869-790a-4432-b227-a978ed243776",
        "outputId": "3d8882c5-7d6b-4002-a43d-719164f4a465"
      },
      "outputs": [
        {
          "name": "stdout",
          "output_type": "stream",
          "text": [
            "central bootstrap interval: (3.32. 3.54)\n",
            "percentile bootstrap interval: (3.34. 3.56)\n",
            "norm bootstrap interval: (3.32. 3.56)\n"
          ]
        }
      ],
      "source": [
        "theta_func = lambda sample: numpy.percentile(sample, 50, axis=1)\n",
        "ex_sample = example_dist.rvs(5000)\n",
        "result = fast_bootstrap_ci(ex_sample, theta_func, alpha=0.05)\n",
        "\n",
        "for ci_type in result:\n",
        "    left, right = result[ci_type]\n",
        "    print(f\"{ci_type} interval: ({round(left, 2)}. {round(right, 2)})\")"
      ]
    },
    {
      "cell_type": "markdown",
      "id": "deb80759-df58-4717-a4e1-28b386867255",
      "metadata": {
        "id": "deb80759-df58-4717-a4e1-28b386867255"
      },
      "source": [
        "Мы видим, что все они очень похожи и сильно не отличаются. А если взять больше выборку?"
      ]
    },
    {
      "cell_type": "code",
      "execution_count": null,
      "id": "370d6137-6a63-41f5-b8d3-97cd6c23c71b",
      "metadata": {
        "id": "370d6137-6a63-41f5-b8d3-97cd6c23c71b",
        "outputId": "3fed8488-438b-49ed-8c58-fb0f18f72430"
      },
      "outputs": [
        {
          "name": "stdout",
          "output_type": "stream",
          "text": [
            "central bootstrap interval: (3.39. 3.48)\n",
            "percentile bootstrap interval: (3.4. 3.49)\n",
            "norm bootstrap interval: (3.4. 3.48)\n"
          ]
        }
      ],
      "source": [
        "ex_sample = example_dist.rvs(50000)\n",
        "result = fast_bootstrap_ci(ex_sample, theta_func, alpha=0.05)\n",
        "\n",
        "for ci_type in result:\n",
        "    left, right = result[ci_type]\n",
        "    print(f\"{ci_type} interval: ({round(left, 2)}. {round(right, 2)})\")"
      ]
    },
    {
      "cell_type": "markdown",
      "id": "c5a908b2-970b-4c0f-9829-8697496f5c12",
      "metadata": {
        "id": "c5a908b2-970b-4c0f-9829-8697496f5c12"
      },
      "source": [
        "Значения практически совпали! Отсюда можно также сделать вывод, что мощность всех 3 доверительных интервалов одинакова на больших выборках."
      ]
    },
    {
      "cell_type": "markdown",
      "id": "f86bfcf2-0e3b-45d9-a0d5-2a888dccc7b5",
      "metadata": {
        "id": "f86bfcf2-0e3b-45d9-a0d5-2a888dccc7b5"
      },
      "source": [
        "## T-test vs. Bootstrap\n",
        "\n",
        "Мы уже поняли, что с помощью бутстрапа мы можем оценивать любые характеристики распределения, в частности средние. Мы также знаем, что для построения доверительного интервала для мат. ожидания существует t-test. В данном параграфе давайте посмотрим, есть ли какие-то преимущества у бутстрапа относительно t-test?\n",
        "\n",
        "Мы ответим на 3 вопроса:\n",
        "- может ли помочь bootstrap, когда не работает t-test?\n",
        "- мощнее ли bootstrap, чем t-test?\n",
        "- насколько быстрее один критерий, чем другой?\n",
        "\n",
        "Давайте проведем тот же эксперимент, который мы провели ранее, сравнивая дов. интервалы, но со средним."
      ]
    },
    {
      "cell_type": "code",
      "execution_count": null,
      "id": "e56d00f3-882f-4bf4-9cce-569108e3280b",
      "metadata": {
        "id": "e56d00f3-882f-4bf4-9cce-569108e3280b"
      },
      "outputs": [],
      "source": [
        "def mc_ttest_checker(N, example_dist, theta, alpha=0.05, MC_size = 1000):\n",
        "    numpy.random.seed(42)\n",
        "\n",
        "    bad_cnt = defaultdict(lambda: 0)\n",
        "    for i in range(MC_size):\n",
        "        ex_sample = example_dist.rvs(N)\n",
        "\n",
        "        ttest_pval = ttest_1samp(ex_sample, popmean=theta).pvalue\n",
        "        bad_cnt['ttest'] += (ttest_pval < alpha)\n",
        "\n",
        "    return mc_result_dict_creator(bad_cnt, MC_size)\n"
      ]
    },
    {
      "cell_type": "code",
      "execution_count": null,
      "id": "f4a176ca-1023-4ca7-9c47-d183461d1036",
      "metadata": {
        "colab": {
          "referenced_widgets": [
            "2eab00acca3a420ea5e1a68e2caf135b"
          ]
        },
        "id": "f4a176ca-1023-4ca7-9c47-d183461d1036",
        "outputId": "45f3f49b-c473-4e4e-9086-fe25b6eafa57"
      },
      "outputs": [
        {
          "data": {
            "application/vnd.jupyter.widget-view+json": {
              "model_id": "2eab00acca3a420ea5e1a68e2caf135b",
              "version_major": 2,
              "version_minor": 0
            },
            "text/plain": [
              "  0%|          | 0/8 [00:00<?, ?it/s]"
            ]
          },
          "metadata": {},
          "output_type": "display_data"
        }
      ],
      "source": [
        "N_to_check = [5, 10, 20, 50, 100, 200, 500, 1000]\n",
        "\n",
        "example_dist = stats.expon(scale=5)\n",
        "theta = example_dist.mean()\n",
        "theta_func = lambda sample: numpy.mean(sample, axis=1)\n",
        "\n",
        "boot_results = {}\n",
        "ttest_results = {}\n",
        "final_results = {}\n",
        "for N in tqdm(N_to_check):\n",
        "    boot_results = mc_bootstrap_checker(N, example_dist, theta, theta_func, alpha=0.05, MC_size = 1000)\n",
        "    ttest_results = mc_ttest_checker(N, example_dist, theta, alpha=0.05, MC_size = 1000)\n",
        "    final_results[N] = dict(boot_results, **ttest_results)"
      ]
    },
    {
      "cell_type": "code",
      "execution_count": null,
      "id": "44056aee-4d45-4969-8eee-02b3677a4788",
      "metadata": {
        "id": "44056aee-4d45-4969-8eee-02b3677a4788",
        "outputId": "10aca45b-c69e-480c-fb2f-7c45bfa43115"
      },
      "outputs": [
        {
          "data": {
            "image/png": "[encoded data removed]",
            "text/plain": [
              "<Figure size 1332x576 with 1 Axes>"
            ]
          },
          "metadata": {
            "needs_background": "dark"
          },
          "output_type": "display_data"
        }
      ],
      "source": [
        "colors = ['lime', 'white', 'blue', 'yellow']\n",
        "methods = ['central bootstrap', 'percentile bootstrap', 'norm bootstrap', 'ttest']\n",
        "show_FPR(final_results, methods, colors)"
      ]
    },
    {
      "cell_type": "markdown",
      "id": "719cfe79-564b-46e6-aa7d-bdd0b71bc639",
      "metadata": {
        "id": "719cfe79-564b-46e6-aa7d-bdd0b71bc639"
      },
      "source": [
        " Мы видим, что бутстрап начинает работать тогда же, когда и t-test, а до этого момента у него ошибка сильно больше!\n",
        "\n",
        "Давайте посмотрим на ширину доверительного интервала у этих методов."
      ]
    },
    {
      "cell_type": "code",
      "execution_count": null,
      "id": "e3ba1151-0ce1-4170-b1f6-2a190c389c3f",
      "metadata": {
        "id": "e3ba1151-0ce1-4170-b1f6-2a190c389c3f",
        "outputId": "24a35983-1b6e-4595-a440-1889b4713f71"
      },
      "outputs": [
        {
          "name": "stdout",
          "output_type": "stream",
          "text": [
            "central bootstrap interval: (1.51. 4.68), length=3.17\n",
            "percentile bootstrap interval: (1.77. 4.94), length=3.17\n",
            "norm bootstrap interval: (1.6. 4.85), length=3.25\n",
            "ttest interval: (1.42. 5.03), length=3.61\n"
          ]
        }
      ],
      "source": [
        "N = 20\n",
        "example_dist = stats.expon(scale=5)\n",
        "ex_sample = example_dist.rvs(N)\n",
        "theta = example_dist.mean()\n",
        "theta_func = lambda sample: numpy.mean(sample, axis=1)\n",
        "\n",
        "result = fast_bootstrap_ci(ex_sample, theta_func, alpha=0.05)\n",
        "result['ttest'] = t.interval(alpha=0.95, loc=numpy.mean(ex_sample), df=len(ex_sample)-1, scale=stats.sem(ex_sample, ddof=1))\n",
        "\n",
        "\n",
        "for method in result:\n",
        "    left, right = result[method]\n",
        "    print(f\"{method} interval: ({round(left, 2)}. {round(right, 2)}), length={round(right - left, 2)}\")"
      ]
    },
    {
      "cell_type": "markdown",
      "id": "804688c1-0c1e-4c76-9f40-649832d04bdb",
      "metadata": {
        "id": "804688c1-0c1e-4c76-9f40-649832d04bdb"
      },
      "source": [
        "Мы видим, что бутстрап сильно заужает ширину дов. интервала. Поэтому мы и получаем большой FPR у бутстрапа при малых выборках.\n",
        "\n",
        "Это значит, что\n",
        " - Бутстрап не работает в тех случаях, когда не работает t-test. И FPR у него сильно больше.\n",
        " - Тогда же, когда начинает работать t-test, начинает работать бутстрап.\n",
        "\n",
        "То есть при оценке мат. ожидания выборки бутстрап не помогает в тех случаях, когда t-test не работает. Более того, он опасней в использовании в этих случаях.\n",
        "\n",
        "\n",
        "Но может быть мощность у него будет больше?\n",
        "\n",
        "Посмотрим на доверительные интервалы бутстрапа и t-test, когда мы знаем, что оба метода работают:"
      ]
    },
    {
      "cell_type": "code",
      "execution_count": null,
      "id": "31491a69-0fe3-4a6c-8ed6-10bb2486e0e3",
      "metadata": {
        "id": "31491a69-0fe3-4a6c-8ed6-10bb2486e0e3",
        "outputId": "d1b2e56c-6342-409d-aec0-2ef8e32fa345"
      },
      "outputs": [
        {
          "name": "stdout",
          "output_type": "stream",
          "text": [
            "central bootstrap interval: (3.97. 5.37), length=1.39\n",
            "percentile bootstrap interval: (4.11. 5.5), length=1.39\n",
            "norm bootstrap interval: (4.04. 5.44), length=1.4\n",
            "ttest interval: (4.04. 5.43), length=1.39\n"
          ]
        }
      ],
      "source": [
        "N = 200\n",
        "alpha = 0.05\n",
        "ex_sample = example_dist.rvs(N)\n",
        "result = fast_bootstrap_ci(ex_sample, theta_func, alpha=alpha)\n",
        "result['ttest'] = t.interval(alpha=1 - alpha, loc=numpy.mean(ex_sample), df=len(ex_sample)-1, scale=stats.sem(ex_sample, ddof=1))\n",
        "\n",
        "\n",
        "for method in result:\n",
        "    left, right = result[method]\n",
        "    print(f\"{method} interval: ({round(left, 2)}. {round(right, 2)}), length={round(right - left, 2)}\")"
      ]
    },
    {
      "cell_type": "markdown",
      "id": "86eec035-bdfa-462b-98dd-301b96e19d11",
      "metadata": {
        "id": "86eec035-bdfa-462b-98dd-301b96e19d11"
      },
      "source": [
        "Мы видим, что интервалы у бутстрапа и t-test практически идентичны, и это при выборке размера 200. А если взять большую выборку?"
      ]
    },
    {
      "cell_type": "code",
      "execution_count": null,
      "id": "37bb7242-f397-4f7a-b9bf-8798d917fa0d",
      "metadata": {
        "id": "37bb7242-f397-4f7a-b9bf-8798d917fa0d",
        "outputId": "b1ffb775-4625-4015-bd35-cd4ba0d8ba69"
      },
      "outputs": [
        {
          "name": "stdout",
          "output_type": "stream",
          "text": [
            "central bootstrap interval: (4.91. 5.11), length=0.2\n",
            "percentile bootstrap interval: (4.92. 5.12), length=0.2\n",
            "norm bootstrap interval: (4.91. 5.11), length=0.2\n",
            "ttest interval: (4.91. 5.11), length=0.2\n"
          ]
        }
      ],
      "source": [
        "N = 10000\n",
        "ex_sample = example_dist.rvs(N)\n",
        "result = fast_bootstrap_ci(ex_sample, theta_func, alpha=alpha)\n",
        "result['ttest'] = t.interval(alpha=1 - alpha, loc=numpy.mean(ex_sample), df=len(ex_sample)-1, scale=stats.sem(ex_sample, ddof=1))\n",
        "\n",
        "for method in result:\n",
        "    left, right = result[method]\n",
        "    print(f\"{method} interval: ({round(left, 2)}. {round(right, 2)}), length={round(right - left, 2)}\")"
      ]
    },
    {
      "cell_type": "markdown",
      "id": "81500f54-c392-47ce-9cc6-a77efcf3adfa",
      "metadata": {
        "id": "81500f54-c392-47ce-9cc6-a77efcf3adfa"
      },
      "source": [
        "Результаты практически идентичны. А это означает, что мощность бутстрап-критерия не будет отличаться от мощности t-test-критерия.\n",
        "\n",
        "**Поэтому, если вы видите, что бутстрап дает доверительный интервал уже, чем t-test, то этим данным нельзя верить!** Очень вероятно, что у бутстрапа в этот момент FPR больше, чем заявлен!\n"
      ]
    },
    {
      "cell_type": "markdown",
      "id": "2dc39c63-b4f9-4067-8e63-bd8d83addc88",
      "metadata": {
        "id": "2dc39c63-b4f9-4067-8e63-bd8d83addc88"
      },
      "source": [
        "И финальное: давайте сравним время работы 2 критериев:"
      ]
    },
    {
      "cell_type": "code",
      "execution_count": null,
      "id": "7d5e5241-c58c-4bea-a59e-c37f80cb1210",
      "metadata": {
        "id": "7d5e5241-c58c-4bea-a59e-c37f80cb1210"
      },
      "outputs": [],
      "source": [
        "N = 100000\n",
        "ex_sample = example_dist.rvs(N)"
      ]
    },
    {
      "cell_type": "code",
      "execution_count": null,
      "id": "1810fab3-2fe6-426a-ac9b-8935c6b39d9a",
      "metadata": {
        "id": "1810fab3-2fe6-426a-ac9b-8935c6b39d9a",
        "outputId": "aeeba6d0-a689-4de8-cc22-49ac7349d90f"
      },
      "outputs": [
        {
          "name": "stdout",
          "output_type": "stream",
          "text": [
            "CPU times: user 1.26 s, sys: 604 ms, total: 1.87 s\n",
            "Wall time: 1.87 s\n"
          ]
        }
      ],
      "source": [
        "%%time\n",
        "_ = fast_bootstrap_ci(ex_sample, theta_func, alpha=alpha)"
      ]
    },
    {
      "cell_type": "code",
      "execution_count": null,
      "id": "db7233fb-12e7-4b1b-9064-d8c5048c5306",
      "metadata": {
        "id": "db7233fb-12e7-4b1b-9064-d8c5048c5306",
        "outputId": "3eee222a-1950-48b7-915a-8cc4d069c43f"
      },
      "outputs": [
        {
          "name": "stdout",
          "output_type": "stream",
          "text": [
            "CPU times: user 1.82 ms, sys: 0 ns, total: 1.82 ms\n",
            "Wall time: 1.23 ms\n"
          ]
        }
      ],
      "source": [
        "%%time\n",
        "_ = t.interval(alpha=1 - alpha, loc=numpy.mean(ex_sample), df=len(ex_sample)-1, scale=stats.sem(ex_sample, ddof=1))\n"
      ]
    },
    {
      "cell_type": "markdown",
      "id": "acd42a8b-0777-4ec3-b308-bec9411a0df6",
      "metadata": {
        "id": "acd42a8b-0777-4ec3-b308-bec9411a0df6"
      },
      "source": [
        "Мы видим, что на больших выборках разница по времени > 1000 раз!\n",
        "\n",
        "Почему так происходит?\n",
        "1. На одну бутстрап выборку тратится примерно O(N) времени. А на создание B выборок &mdash; `O(NB)` времени. Это и есть примерное время работы бутстрапа.\n",
        "2.У T-test же этой проблемы нет: ему надо посчитать только среднее за O(N), посчитать стандартное отклонение за O(N) и константы квантилей за O(1) времени.\n",
        "\n",
        "В итоге из-за этого бутстрап работает около `B` раз дольше времени, что мы и увидели на данных.\n",
        "\n",
        "\n",
        "------\n",
        "\n",
        "Поэтому, подводя итог сравнения t-test с bootstrap:\n",
        "- bootstrap нельзя использовать, когда не работает t-test. Его FPR будет больше, чем у t-test.\n",
        "- bootstrap не выигрывает по мощности у t-test. Они дают идентичные дов. интервалы, когда корректно работают.\n",
        "- он работает в тысячи раз дольше, чем t-test.\n",
        "\n",
        "----\n",
        "\n",
        "\n",
        "# Итог: рекомендации к использованию бутстрапа\n",
        "\n",
        "- Если вам нужно построить доверительный интервал для какой-то характеристики, то бутстрап ваш лучший друг. Он может помочь вам построить доверительный интервал для характеристики у одной выборки, так и оценить разностсть характеристик в AB-тесте, между тестом и контролем.\n",
        "- При этом надо помнить, что на малых выборках его опасно использовать. Поэтому по возможности, проверяйте на Монте-Карло, можно ли использовать этот критерий в вашей задаче или нет.\n",
        "- Также надо помнить, что бутстрап не пофиксит проблемы t-test: его опасно использовать тогда, когда t-test не работает. Вы ошибетесь с этим критерием сильнее.\n",
        "- Ну и главное: этот криетрий очень долго работает. Поэтому, если вам надо реализовать критерий, который должен проанализировать гигантское число AB-тестов, то бутстрап вам не поможет.\n"
      ]
    },
    {
      "cell_type": "code",
      "execution_count": null,
      "id": "894fb770-aacc-4192-a50b-769640211619",
      "metadata": {
        "id": "894fb770-aacc-4192-a50b-769640211619"
      },
      "outputs": [],
      "source": []
    }
  ],
  "metadata": {
    "kernelspec": {
      "display_name": "Python 3",
      "language": "python",
      "name": "python3"
    },
    "language_info": {
      "codemirror_mode": {
        "name": "ipython",
        "version": 3
      },
      "file_extension": ".py",
      "mimetype": "text/x-python",
      "name": "python",
      "nbconvert_exporter": "python",
      "pygments_lexer": "ipython3",
      "version": "3.6.6"
    },
    "colab": {
      "provenance": []
    },
    "widgets": {
      "application/vnd.jupyter.widget-state+json": {
        "511a92ca6fc4451fa8634d7f00db83a7": {
          "model_module": "@jupyter-widgets/controls",
          "model_name": "HBoxModel",
          "model_module_version": "1.5.0",
          "state": {
            "_dom_classes": [],
            "_model_module": "@jupyter-widgets/controls",
            "_model_module_version": "1.5.0",
            "_model_name": "HBoxModel",
            "_view_count": null,
            "_view_module": "@jupyter-widgets/controls",
            "_view_module_version": "1.5.0",
            "_view_name": "HBoxView",
            "box_style": "",
            "children": [
              "IPY_MODEL_862b7e8de710458bbd387cc2f6dff3a6",
              "IPY_MODEL_7af5aa87c8d1402a9b469a56be1d5be9",
              "IPY_MODEL_f1fbf4cb89974f7abb5f31244fea362a"
            ],
            "layout": "IPY_MODEL_ec5d7db7e0384bf2b64f6ac39b61d7b5"
          }
        },
        "862b7e8de710458bbd387cc2f6dff3a6": {
          "model_module": "@jupyter-widgets/controls",
          "model_name": "HTMLModel",
          "model_module_version": "1.5.0",
          "state": {
            "_dom_classes": [],
            "_model_module": "@jupyter-widgets/controls",
            "_model_module_version": "1.5.0",
            "_model_name": "HTMLModel",
            "_view_count": null,
            "_view_module": "@jupyter-widgets/controls",
            "_view_module_version": "1.5.0",
            "_view_name": "HTMLView",
            "description": "",
            "description_tooltip": null,
            "layout": "IPY_MODEL_82172103b3ed42f782f95aae792c721b",
            "placeholder": "​",
            "style": "IPY_MODEL_b5e6fdd08fef463499b1f6514008b40c",
            "value": "100%"
          }
        },
        "7af5aa87c8d1402a9b469a56be1d5be9": {
          "model_module": "@jupyter-widgets/controls",
          "model_name": "FloatProgressModel",
          "model_module_version": "1.5.0",
          "state": {
            "_dom_classes": [],
            "_model_module": "@jupyter-widgets/controls",
            "_model_module_version": "1.5.0",
            "_model_name": "FloatProgressModel",
            "_view_count": null,
            "_view_module": "@jupyter-widgets/controls",
            "_view_module_version": "1.5.0",
            "_view_name": "ProgressView",
            "bar_style": "success",
            "description": "",
            "description_tooltip": null,
            "layout": "IPY_MODEL_694e227e95e642f282112b6252c08ac8",
            "max": 1000,
            "min": 0,
            "orientation": "horizontal",
            "style": "IPY_MODEL_ba051c9621374908bc0aa2d102a5a0a1",
            "value": 1000
          }
        },
        "f1fbf4cb89974f7abb5f31244fea362a": {
          "model_module": "@jupyter-widgets/controls",
          "model_name": "HTMLModel",
          "model_module_version": "1.5.0",
          "state": {
            "_dom_classes": [],
            "_model_module": "@jupyter-widgets/controls",
            "_model_module_version": "1.5.0",
            "_model_name": "HTMLModel",
            "_view_count": null,
            "_view_module": "@jupyter-widgets/controls",
            "_view_module_version": "1.5.0",
            "_view_name": "HTMLView",
            "description": "",
            "description_tooltip": null,
            "layout": "IPY_MODEL_e30d7ee088f74d5d83b5f4f645eb7a9f",
            "placeholder": "​",
            "style": "IPY_MODEL_dd5db0806f704da9b1541ac6b0b25097",
            "value": " 1000/1000 [07:25&lt;00:00,  2.46it/s]"
          }
        },
        "ec5d7db7e0384bf2b64f6ac39b61d7b5": {
          "model_module": "@jupyter-widgets/base",
          "model_name": "LayoutModel",
          "model_module_version": "1.2.0",
          "state": {
            "_model_module": "@jupyter-widgets/base",
            "_model_module_version": "1.2.0",
            "_model_name": "LayoutModel",
            "_view_count": null,
            "_view_module": "@jupyter-widgets/base",
            "_view_module_version": "1.2.0",
            "_view_name": "LayoutView",
            "align_content": null,
            "align_items": null,
            "align_self": null,
            "border": null,
            "bottom": null,
            "display": null,
            "flex": null,
            "flex_flow": null,
            "grid_area": null,
            "grid_auto_columns": null,
            "grid_auto_flow": null,
            "grid_auto_rows": null,
            "grid_column": null,
            "grid_gap": null,
            "grid_row": null,
            "grid_template_areas": null,
            "grid_template_columns": null,
            "grid_template_rows": null,
            "height": null,
            "justify_content": null,
            "justify_items": null,
            "left": null,
            "margin": null,
            "max_height": null,
            "max_width": null,
            "min_height": null,
            "min_width": null,
            "object_fit": null,
            "object_position": null,
            "order": null,
            "overflow": null,
            "overflow_x": null,
            "overflow_y": null,
            "padding": null,
            "right": null,
            "top": null,
            "visibility": null,
            "width": null
          }
        },
        "82172103b3ed42f782f95aae792c721b": {
          "model_module": "@jupyter-widgets/base",
          "model_name": "LayoutModel",
          "model_module_version": "1.2.0",
          "state": {
            "_model_module": "@jupyter-widgets/base",
            "_model_module_version": "1.2.0",
            "_model_name": "LayoutModel",
            "_view_count": null,
            "_view_module": "@jupyter-widgets/base",
            "_view_module_version": "1.2.0",
            "_view_name": "LayoutView",
            "align_content": null,
            "align_items": null,
            "align_self": null,
            "border": null,
            "bottom": null,
            "display": null,
            "flex": null,
            "flex_flow": null,
            "grid_area": null,
            "grid_auto_columns": null,
            "grid_auto_flow": null,
            "grid_auto_rows": null,
            "grid_column": null,
            "grid_gap": null,
            "grid_row": null,
            "grid_template_areas": null,
            "grid_template_columns": null,
            "grid_template_rows": null,
            "height": null,
            "justify_content": null,
            "justify_items": null,
            "left": null,
            "margin": null,
            "max_height": null,
            "max_width": null,
            "min_height": null,
            "min_width": null,
            "object_fit": null,
            "object_position": null,
            "order": null,
            "overflow": null,
            "overflow_x": null,
            "overflow_y": null,
            "padding": null,
            "right": null,
            "top": null,
            "visibility": null,
            "width": null
          }
        },
        "b5e6fdd08fef463499b1f6514008b40c": {
          "model_module": "@jupyter-widgets/controls",
          "model_name": "DescriptionStyleModel",
          "model_module_version": "1.5.0",
          "state": {
            "_model_module": "@jupyter-widgets/controls",
            "_model_module_version": "1.5.0",
            "_model_name": "DescriptionStyleModel",
            "_view_count": null,
            "_view_module": "@jupyter-widgets/base",
            "_view_module_version": "1.2.0",
            "_view_name": "StyleView",
            "description_width": ""
          }
        },
        "694e227e95e642f282112b6252c08ac8": {
          "model_module": "@jupyter-widgets/base",
          "model_name": "LayoutModel",
          "model_module_version": "1.2.0",
          "state": {
            "_model_module": "@jupyter-widgets/base",
            "_model_module_version": "1.2.0",
            "_model_name": "LayoutModel",
            "_view_count": null,
            "_view_module": "@jupyter-widgets/base",
            "_view_module_version": "1.2.0",
            "_view_name": "LayoutView",
            "align_content": null,
            "align_items": null,
            "align_self": null,
            "border": null,
            "bottom": null,
            "display": null,
            "flex": null,
            "flex_flow": null,
            "grid_area": null,
            "grid_auto_columns": null,
            "grid_auto_flow": null,
            "grid_auto_rows": null,
            "grid_column": null,
            "grid_gap": null,
            "grid_row": null,
            "grid_template_areas": null,
            "grid_template_columns": null,
            "grid_template_rows": null,
            "height": null,
            "justify_content": null,
            "justify_items": null,
            "left": null,
            "margin": null,
            "max_height": null,
            "max_width": null,
            "min_height": null,
            "min_width": null,
            "object_fit": null,
            "object_position": null,
            "order": null,
            "overflow": null,
            "overflow_x": null,
            "overflow_y": null,
            "padding": null,
            "right": null,
            "top": null,
            "visibility": null,
            "width": null
          }
        },
        "ba051c9621374908bc0aa2d102a5a0a1": {
          "model_module": "@jupyter-widgets/controls",
          "model_name": "ProgressStyleModel",
          "model_module_version": "1.5.0",
          "state": {
            "_model_module": "@jupyter-widgets/controls",
            "_model_module_version": "1.5.0",
            "_model_name": "ProgressStyleModel",
            "_view_count": null,
            "_view_module": "@jupyter-widgets/base",
            "_view_module_version": "1.2.0",
            "_view_name": "StyleView",
            "bar_color": null,
            "description_width": ""
          }
        },
        "e30d7ee088f74d5d83b5f4f645eb7a9f": {
          "model_module": "@jupyter-widgets/base",
          "model_name": "LayoutModel",
          "model_module_version": "1.2.0",
          "state": {
            "_model_module": "@jupyter-widgets/base",
            "_model_module_version": "1.2.0",
            "_model_name": "LayoutModel",
            "_view_count": null,
            "_view_module": "@jupyter-widgets/base",
            "_view_module_version": "1.2.0",
            "_view_name": "LayoutView",
            "align_content": null,
            "align_items": null,
            "align_self": null,
            "border": null,
            "bottom": null,
            "display": null,
            "flex": null,
            "flex_flow": null,
            "grid_area": null,
            "grid_auto_columns": null,
            "grid_auto_flow": null,
            "grid_auto_rows": null,
            "grid_column": null,
            "grid_gap": null,
            "grid_row": null,
            "grid_template_areas": null,
            "grid_template_columns": null,
            "grid_template_rows": null,
            "height": null,
            "justify_content": null,
            "justify_items": null,
            "left": null,
            "margin": null,
            "max_height": null,
            "max_width": null,
            "min_height": null,
            "min_width": null,
            "object_fit": null,
            "object_position": null,
            "order": null,
            "overflow": null,
            "overflow_x": null,
            "overflow_y": null,
            "padding": null,
            "right": null,
            "top": null,
            "visibility": null,
            "width": null
          }
        },
        "dd5db0806f704da9b1541ac6b0b25097": {
          "model_module": "@jupyter-widgets/controls",
          "model_name": "DescriptionStyleModel",
          "model_module_version": "1.5.0",
          "state": {
            "_model_module": "@jupyter-widgets/controls",
            "_model_module_version": "1.5.0",
            "_model_name": "DescriptionStyleModel",
            "_view_count": null,
            "_view_module": "@jupyter-widgets/base",
            "_view_module_version": "1.2.0",
            "_view_name": "StyleView",
            "description_width": ""
          }
        }
      }
    }
  },
  "nbformat": 4,
  "nbformat_minor": 5
}